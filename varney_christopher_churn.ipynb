{
 "cells": [
  {
   "cell_type": "markdown",
   "id": "7f219e6a",
   "metadata": {
    "papermill": {
     "duration": 0.014364,
     "end_time": "2023-05-01T14:08:51.096565",
     "exception": false,
     "start_time": "2023-05-01T14:08:51.082201",
     "status": "completed"
    },
    "tags": []
   },
   "source": [
    "**MAP6990 Capstone Project: Telco Customer Churn**\n",
    "\n",
    "**Author**: Christopher Varney\n",
    "\n",
    "**Blog Post Link**: [https://cvarney.github.io/telco_customer_churn/](https://cvarney.github.io/telco_customer_churn/)"
   ]
  },
  {
   "cell_type": "markdown",
   "id": "94b9aa3a",
   "metadata": {
    "papermill": {
     "duration": 0.012861,
     "end_time": "2023-05-01T14:08:51.122715",
     "exception": false,
     "start_time": "2023-05-01T14:08:51.109854",
     "status": "completed"
    },
    "tags": []
   },
   "source": [
    "# Load the necessary packages"
   ]
  },
  {
   "cell_type": "code",
   "execution_count": 1,
   "id": "85a80eee",
   "metadata": {
    "_cell_guid": "b1076dfc-b9ad-4769-8c92-a6c4dae69d19",
    "_uuid": "8f2839f25d086af736a60e9eeb907d3b93b6e0e5",
    "execution": {
     "iopub.execute_input": "2023-05-01T14:08:51.152565Z",
     "iopub.status.busy": "2023-05-01T14:08:51.151403Z",
     "iopub.status.idle": "2023-05-01T14:08:52.775672Z",
     "shell.execute_reply": "2023-05-01T14:08:52.774509Z"
    },
    "papermill": {
     "duration": 1.642667,
     "end_time": "2023-05-01T14:08:52.778774",
     "exception": false,
     "start_time": "2023-05-01T14:08:51.136107",
     "status": "completed"
    },
    "tags": []
   },
   "outputs": [],
   "source": [
    "# Load packages\n",
    "import numpy as np # linear algebra\n",
    "import pandas as pd # data processing, CSV file I/O (e.g. pd.read_csv)\n",
    "\n",
    "# Plotting Packages\n",
    "import seaborn as sns\n",
    "from matplotlib import pyplot as plt\n",
    "from mlxtend.plotting import scatterplotmatrix\n",
    "\n",
    "# Sci-kit Learn Packages\n",
    "from sklearn.model_selection import train_test_split\n",
    "from sklearn.preprocessing import OneHotEncoder, MinMaxScaler, LabelEncoder, StandardScaler, RobustScaler\n",
    "from sklearn.linear_model import Perceptron, LogisticRegression\n",
    "from sklearn.svm import SVC\n",
    "from sklearn.tree import DecisionTreeClassifier\n",
    "from sklearn.model_selection import GridSearchCV, cross_validate, RandomizedSearchCV, validation_curve\n",
    "from sklearn.neighbors import KNeighborsClassifier\n",
    "from sklearn.metrics import accuracy_score, f1_score, precision_score, recall_score, mutual_info_score\n"
   ]
  },
  {
   "cell_type": "markdown",
   "id": "40be6c8a",
   "metadata": {
    "papermill": {
     "duration": 0.012709,
     "end_time": "2023-05-01T14:08:52.806082",
     "exception": false,
     "start_time": "2023-05-01T14:08:52.793373",
     "status": "completed"
    },
    "tags": []
   },
   "source": [
    "# Read the data"
   ]
  },
  {
   "cell_type": "code",
   "execution_count": 2,
   "id": "442f8f81",
   "metadata": {
    "execution": {
     "iopub.execute_input": "2023-05-01T14:08:52.834746Z",
     "iopub.status.busy": "2023-05-01T14:08:52.834344Z",
     "iopub.status.idle": "2023-05-01T14:08:52.839480Z",
     "shell.execute_reply": "2023-05-01T14:08:52.838292Z"
    },
    "papermill": {
     "duration": 0.022465,
     "end_time": "2023-05-01T14:08:52.842011",
     "exception": false,
     "start_time": "2023-05-01T14:08:52.819546",
     "status": "completed"
    },
    "tags": []
   },
   "outputs": [],
   "source": [
    "# Configure Pandas \n",
    "pd.set_option('display.max_columns', None)\n",
    "pd.set_option('display.max_rows', None)\n",
    "pd.set_option('display.width', 500)"
   ]
  },
  {
   "cell_type": "code",
   "execution_count": 3,
   "id": "64cf742f",
   "metadata": {
    "execution": {
     "iopub.execute_input": "2023-05-01T14:08:52.870728Z",
     "iopub.status.busy": "2023-05-01T14:08:52.870328Z",
     "iopub.status.idle": "2023-05-01T14:08:52.881461Z",
     "shell.execute_reply": "2023-05-01T14:08:52.880392Z"
    },
    "papermill": {
     "duration": 0.02868,
     "end_time": "2023-05-01T14:08:52.884168",
     "exception": false,
     "start_time": "2023-05-01T14:08:52.855488",
     "status": "completed"
    },
    "tags": []
   },
   "outputs": [
    {
     "name": "stdout",
     "output_type": "stream",
     "text": [
      "/kaggle/input/telco-customer-churn/WA_Fn-UseC_-Telco-Customer-Churn.csv\n"
     ]
    }
   ],
   "source": [
    "# Input data files are available in the read-only \"../input/\" directory\n",
    "# For example, running this (by clicking run or pressing Shift+Enter) will list all files under the input directory\n",
    "import os\n",
    "for dirname, _, filenames in os.walk('/kaggle/input'):\n",
    "    for filename in filenames:\n",
    "        print(os.path.join(dirname, filename))"
   ]
  },
  {
   "cell_type": "code",
   "execution_count": 4,
   "id": "12fced71",
   "metadata": {
    "execution": {
     "iopub.execute_input": "2023-05-01T14:08:52.913321Z",
     "iopub.status.busy": "2023-05-01T14:08:52.912823Z",
     "iopub.status.idle": "2023-05-01T14:08:52.976045Z",
     "shell.execute_reply": "2023-05-01T14:08:52.974787Z"
    },
    "papermill": {
     "duration": 0.081314,
     "end_time": "2023-05-01T14:08:52.978968",
     "exception": false,
     "start_time": "2023-05-01T14:08:52.897654",
     "status": "completed"
    },
    "tags": []
   },
   "outputs": [],
   "source": [
    "# Load Telco Customer Churn file using loaded csv file\n",
    "df_telco = pd.read_csv(\"/kaggle/input/telco-customer-churn/WA_Fn-UseC_-Telco-Customer-Churn.csv\")\n",
    "\n",
    "# Make a copy of the original dataframe\n",
    "df = df_telco.copy()"
   ]
  },
  {
   "cell_type": "markdown",
   "id": "139708c6",
   "metadata": {
    "papermill": {
     "duration": 0.012988,
     "end_time": "2023-05-01T14:08:53.005412",
     "exception": false,
     "start_time": "2023-05-01T14:08:52.992424",
     "status": "completed"
    },
    "tags": []
   },
   "source": [
    "# Data Cleaning"
   ]
  },
  {
   "cell_type": "markdown",
   "id": "bd7d8466",
   "metadata": {
    "papermill": {
     "duration": 0.012811,
     "end_time": "2023-05-01T14:08:53.032457",
     "exception": false,
     "start_time": "2023-05-01T14:08:53.019646",
     "status": "completed"
    },
    "tags": []
   },
   "source": [
    "## Examine Data Types and Check for Missing Values\n",
    "First we need to assess our data to see what it looks like and whether there are missing values."
   ]
  },
  {
   "cell_type": "code",
   "execution_count": 5,
   "id": "c8d0cd43",
   "metadata": {
    "execution": {
     "iopub.execute_input": "2023-05-01T14:08:53.061006Z",
     "iopub.status.busy": "2023-05-01T14:08:53.060185Z",
     "iopub.status.idle": "2023-05-01T14:08:53.101698Z",
     "shell.execute_reply": "2023-05-01T14:08:53.100745Z"
    },
    "papermill": {
     "duration": 0.058222,
     "end_time": "2023-05-01T14:08:53.103884",
     "exception": false,
     "start_time": "2023-05-01T14:08:53.045662",
     "status": "completed"
    },
    "tags": []
   },
   "outputs": [
    {
     "data": {
      "text/html": [
       "<div>\n",
       "<style scoped>\n",
       "    .dataframe tbody tr th:only-of-type {\n",
       "        vertical-align: middle;\n",
       "    }\n",
       "\n",
       "    .dataframe tbody tr th {\n",
       "        vertical-align: top;\n",
       "    }\n",
       "\n",
       "    .dataframe thead th {\n",
       "        text-align: right;\n",
       "    }\n",
       "</style>\n",
       "<table border=\"1\" class=\"dataframe\">\n",
       "  <thead>\n",
       "    <tr style=\"text-align: right;\">\n",
       "      <th></th>\n",
       "      <th>customerID</th>\n",
       "      <th>gender</th>\n",
       "      <th>SeniorCitizen</th>\n",
       "      <th>Partner</th>\n",
       "      <th>Dependents</th>\n",
       "      <th>tenure</th>\n",
       "      <th>PhoneService</th>\n",
       "      <th>MultipleLines</th>\n",
       "      <th>InternetService</th>\n",
       "      <th>OnlineSecurity</th>\n",
       "      <th>OnlineBackup</th>\n",
       "      <th>DeviceProtection</th>\n",
       "      <th>TechSupport</th>\n",
       "      <th>StreamingTV</th>\n",
       "      <th>StreamingMovies</th>\n",
       "      <th>Contract</th>\n",
       "      <th>PaperlessBilling</th>\n",
       "      <th>PaymentMethod</th>\n",
       "      <th>MonthlyCharges</th>\n",
       "      <th>TotalCharges</th>\n",
       "      <th>Churn</th>\n",
       "    </tr>\n",
       "  </thead>\n",
       "  <tbody>\n",
       "    <tr>\n",
       "      <th>0</th>\n",
       "      <td>7590-VHVEG</td>\n",
       "      <td>Female</td>\n",
       "      <td>0</td>\n",
       "      <td>Yes</td>\n",
       "      <td>No</td>\n",
       "      <td>1</td>\n",
       "      <td>No</td>\n",
       "      <td>No phone service</td>\n",
       "      <td>DSL</td>\n",
       "      <td>No</td>\n",
       "      <td>Yes</td>\n",
       "      <td>No</td>\n",
       "      <td>No</td>\n",
       "      <td>No</td>\n",
       "      <td>No</td>\n",
       "      <td>Month-to-month</td>\n",
       "      <td>Yes</td>\n",
       "      <td>Electronic check</td>\n",
       "      <td>29.85</td>\n",
       "      <td>29.85</td>\n",
       "      <td>No</td>\n",
       "    </tr>\n",
       "    <tr>\n",
       "      <th>1</th>\n",
       "      <td>5575-GNVDE</td>\n",
       "      <td>Male</td>\n",
       "      <td>0</td>\n",
       "      <td>No</td>\n",
       "      <td>No</td>\n",
       "      <td>34</td>\n",
       "      <td>Yes</td>\n",
       "      <td>No</td>\n",
       "      <td>DSL</td>\n",
       "      <td>Yes</td>\n",
       "      <td>No</td>\n",
       "      <td>Yes</td>\n",
       "      <td>No</td>\n",
       "      <td>No</td>\n",
       "      <td>No</td>\n",
       "      <td>One year</td>\n",
       "      <td>No</td>\n",
       "      <td>Mailed check</td>\n",
       "      <td>56.95</td>\n",
       "      <td>1889.5</td>\n",
       "      <td>No</td>\n",
       "    </tr>\n",
       "    <tr>\n",
       "      <th>2</th>\n",
       "      <td>3668-QPYBK</td>\n",
       "      <td>Male</td>\n",
       "      <td>0</td>\n",
       "      <td>No</td>\n",
       "      <td>No</td>\n",
       "      <td>2</td>\n",
       "      <td>Yes</td>\n",
       "      <td>No</td>\n",
       "      <td>DSL</td>\n",
       "      <td>Yes</td>\n",
       "      <td>Yes</td>\n",
       "      <td>No</td>\n",
       "      <td>No</td>\n",
       "      <td>No</td>\n",
       "      <td>No</td>\n",
       "      <td>Month-to-month</td>\n",
       "      <td>Yes</td>\n",
       "      <td>Mailed check</td>\n",
       "      <td>53.85</td>\n",
       "      <td>108.15</td>\n",
       "      <td>Yes</td>\n",
       "    </tr>\n",
       "    <tr>\n",
       "      <th>3</th>\n",
       "      <td>7795-CFOCW</td>\n",
       "      <td>Male</td>\n",
       "      <td>0</td>\n",
       "      <td>No</td>\n",
       "      <td>No</td>\n",
       "      <td>45</td>\n",
       "      <td>No</td>\n",
       "      <td>No phone service</td>\n",
       "      <td>DSL</td>\n",
       "      <td>Yes</td>\n",
       "      <td>No</td>\n",
       "      <td>Yes</td>\n",
       "      <td>Yes</td>\n",
       "      <td>No</td>\n",
       "      <td>No</td>\n",
       "      <td>One year</td>\n",
       "      <td>No</td>\n",
       "      <td>Bank transfer (automatic)</td>\n",
       "      <td>42.30</td>\n",
       "      <td>1840.75</td>\n",
       "      <td>No</td>\n",
       "    </tr>\n",
       "    <tr>\n",
       "      <th>4</th>\n",
       "      <td>9237-HQITU</td>\n",
       "      <td>Female</td>\n",
       "      <td>0</td>\n",
       "      <td>No</td>\n",
       "      <td>No</td>\n",
       "      <td>2</td>\n",
       "      <td>Yes</td>\n",
       "      <td>No</td>\n",
       "      <td>Fiber optic</td>\n",
       "      <td>No</td>\n",
       "      <td>No</td>\n",
       "      <td>No</td>\n",
       "      <td>No</td>\n",
       "      <td>No</td>\n",
       "      <td>No</td>\n",
       "      <td>Month-to-month</td>\n",
       "      <td>Yes</td>\n",
       "      <td>Electronic check</td>\n",
       "      <td>70.70</td>\n",
       "      <td>151.65</td>\n",
       "      <td>Yes</td>\n",
       "    </tr>\n",
       "  </tbody>\n",
       "</table>\n",
       "</div>"
      ],
      "text/plain": [
       "   customerID  gender  SeniorCitizen Partner Dependents  tenure PhoneService     MultipleLines InternetService OnlineSecurity OnlineBackup DeviceProtection TechSupport StreamingTV StreamingMovies        Contract PaperlessBilling              PaymentMethod  MonthlyCharges TotalCharges Churn\n",
       "0  7590-VHVEG  Female              0     Yes         No       1           No  No phone service             DSL             No          Yes               No          No          No              No  Month-to-month              Yes           Electronic check           29.85        29.85    No\n",
       "1  5575-GNVDE    Male              0      No         No      34          Yes                No             DSL            Yes           No              Yes          No          No              No        One year               No               Mailed check           56.95       1889.5    No\n",
       "2  3668-QPYBK    Male              0      No         No       2          Yes                No             DSL            Yes          Yes               No          No          No              No  Month-to-month              Yes               Mailed check           53.85       108.15   Yes\n",
       "3  7795-CFOCW    Male              0      No         No      45           No  No phone service             DSL            Yes           No              Yes         Yes          No              No        One year               No  Bank transfer (automatic)           42.30      1840.75    No\n",
       "4  9237-HQITU  Female              0      No         No       2          Yes                No     Fiber optic             No           No               No          No          No              No  Month-to-month              Yes           Electronic check           70.70       151.65   Yes"
      ]
     },
     "execution_count": 5,
     "metadata": {},
     "output_type": "execute_result"
    }
   ],
   "source": [
    "# Examine the data frame\n",
    "df.head()"
   ]
  },
  {
   "cell_type": "code",
   "execution_count": 6,
   "id": "e1ec8648",
   "metadata": {
    "execution": {
     "iopub.execute_input": "2023-05-01T14:08:53.133385Z",
     "iopub.status.busy": "2023-05-01T14:08:53.132983Z",
     "iopub.status.idle": "2023-05-01T14:08:53.140834Z",
     "shell.execute_reply": "2023-05-01T14:08:53.139229Z"
    },
    "papermill": {
     "duration": 0.025848,
     "end_time": "2023-05-01T14:08:53.143582",
     "exception": false,
     "start_time": "2023-05-01T14:08:53.117734",
     "status": "completed"
    },
    "tags": []
   },
   "outputs": [
    {
     "data": {
      "text/plain": [
       "(7043, 21)"
      ]
     },
     "execution_count": 6,
     "metadata": {},
     "output_type": "execute_result"
    }
   ],
   "source": [
    "# Examine the shape\n",
    "df.shape"
   ]
  },
  {
   "cell_type": "code",
   "execution_count": 7,
   "id": "0d11740d",
   "metadata": {
    "execution": {
     "iopub.execute_input": "2023-05-01T14:08:53.173268Z",
     "iopub.status.busy": "2023-05-01T14:08:53.172817Z",
     "iopub.status.idle": "2023-05-01T14:08:53.207270Z",
     "shell.execute_reply": "2023-05-01T14:08:53.205240Z"
    },
    "papermill": {
     "duration": 0.052624,
     "end_time": "2023-05-01T14:08:53.210103",
     "exception": false,
     "start_time": "2023-05-01T14:08:53.157479",
     "status": "completed"
    },
    "tags": []
   },
   "outputs": [
    {
     "name": "stdout",
     "output_type": "stream",
     "text": [
      "<class 'pandas.core.frame.DataFrame'>\n",
      "RangeIndex: 7043 entries, 0 to 7042\n",
      "Data columns (total 21 columns):\n",
      " #   Column            Non-Null Count  Dtype  \n",
      "---  ------            --------------  -----  \n",
      " 0   customerID        7043 non-null   object \n",
      " 1   gender            7043 non-null   object \n",
      " 2   SeniorCitizen     7043 non-null   int64  \n",
      " 3   Partner           7043 non-null   object \n",
      " 4   Dependents        7043 non-null   object \n",
      " 5   tenure            7043 non-null   int64  \n",
      " 6   PhoneService      7043 non-null   object \n",
      " 7   MultipleLines     7043 non-null   object \n",
      " 8   InternetService   7043 non-null   object \n",
      " 9   OnlineSecurity    7043 non-null   object \n",
      " 10  OnlineBackup      7043 non-null   object \n",
      " 11  DeviceProtection  7043 non-null   object \n",
      " 12  TechSupport       7043 non-null   object \n",
      " 13  StreamingTV       7043 non-null   object \n",
      " 14  StreamingMovies   7043 non-null   object \n",
      " 15  Contract          7043 non-null   object \n",
      " 16  PaperlessBilling  7043 non-null   object \n",
      " 17  PaymentMethod     7043 non-null   object \n",
      " 18  MonthlyCharges    7043 non-null   float64\n",
      " 19  TotalCharges      7043 non-null   object \n",
      " 20  Churn             7043 non-null   object \n",
      "dtypes: float64(1), int64(2), object(18)\n",
      "memory usage: 1.1+ MB\n"
     ]
    }
   ],
   "source": [
    "# Look at information about the data frame columns\n",
    "df.info()"
   ]
  },
  {
   "cell_type": "markdown",
   "id": "d0e7b821",
   "metadata": {
    "papermill": {
     "duration": 0.013554,
     "end_time": "2023-05-01T14:08:53.237580",
     "exception": false,
     "start_time": "2023-05-01T14:08:53.224026",
     "status": "completed"
    },
    "tags": []
   },
   "source": [
    "Here we note that the target variable is `Churn` and the `TotalCharges` column has been incorrectly configured as an object data type when it should be a `float64`."
   ]
  },
  {
   "cell_type": "code",
   "execution_count": 8,
   "id": "ea11eeab",
   "metadata": {
    "execution": {
     "iopub.execute_input": "2023-05-01T14:08:53.266716Z",
     "iopub.status.busy": "2023-05-01T14:08:53.266306Z",
     "iopub.status.idle": "2023-05-01T14:08:53.272056Z",
     "shell.execute_reply": "2023-05-01T14:08:53.270739Z"
    },
    "papermill": {
     "duration": 0.023194,
     "end_time": "2023-05-01T14:08:53.274542",
     "exception": false,
     "start_time": "2023-05-01T14:08:53.251348",
     "status": "completed"
    },
    "tags": []
   },
   "outputs": [],
   "source": [
    "# Define target variable\n",
    "target = 'Churn'"
   ]
  },
  {
   "cell_type": "code",
   "execution_count": 9,
   "id": "a2c5ee0f",
   "metadata": {
    "execution": {
     "iopub.execute_input": "2023-05-01T14:08:53.304659Z",
     "iopub.status.busy": "2023-05-01T14:08:53.303891Z",
     "iopub.status.idle": "2023-05-01T14:08:53.320482Z",
     "shell.execute_reply": "2023-05-01T14:08:53.319347Z"
    },
    "papermill": {
     "duration": 0.034184,
     "end_time": "2023-05-01T14:08:53.322700",
     "exception": false,
     "start_time": "2023-05-01T14:08:53.288516",
     "status": "completed"
    },
    "tags": []
   },
   "outputs": [
    {
     "data": {
      "text/plain": [
       "customerID          0\n",
       "gender              0\n",
       "SeniorCitizen       0\n",
       "Partner             0\n",
       "Dependents          0\n",
       "tenure              0\n",
       "PhoneService        0\n",
       "MultipleLines       0\n",
       "InternetService     0\n",
       "OnlineSecurity      0\n",
       "OnlineBackup        0\n",
       "DeviceProtection    0\n",
       "TechSupport         0\n",
       "StreamingTV         0\n",
       "StreamingMovies     0\n",
       "Contract            0\n",
       "PaperlessBilling    0\n",
       "PaymentMethod       0\n",
       "MonthlyCharges      0\n",
       "TotalCharges        0\n",
       "Churn               0\n",
       "dtype: int64"
      ]
     },
     "execution_count": 9,
     "metadata": {},
     "output_type": "execute_result"
    }
   ],
   "source": [
    "# Check for null values\n",
    "df.isnull().sum()"
   ]
  },
  {
   "cell_type": "markdown",
   "id": "3416c50a",
   "metadata": {
    "papermill": {
     "duration": 0.013435,
     "end_time": "2023-05-01T14:08:53.349901",
     "exception": false,
     "start_time": "2023-05-01T14:08:53.336466",
     "status": "completed"
    },
    "tags": []
   },
   "source": [
    "## Convert Total Charges to a Numeric Data Type"
   ]
  },
  {
   "cell_type": "code",
   "execution_count": 10,
   "id": "3b4e9540",
   "metadata": {
    "execution": {
     "iopub.execute_input": "2023-05-01T14:08:53.380421Z",
     "iopub.status.busy": "2023-05-01T14:08:53.379191Z",
     "iopub.status.idle": "2023-05-01T14:08:53.390521Z",
     "shell.execute_reply": "2023-05-01T14:08:53.389515Z"
    },
    "papermill": {
     "duration": 0.029194,
     "end_time": "2023-05-01T14:08:53.393071",
     "exception": false,
     "start_time": "2023-05-01T14:08:53.363877",
     "status": "completed"
    },
    "tags": []
   },
   "outputs": [],
   "source": [
    "# Convert TotalCharges to numeric data type\n",
    "# df_telco['TotalCharges'] = df_telco['TotalCharges'].astype('float64') # Raises an exception error\n",
    "df['TotalCharges'] = pd.to_numeric(df['TotalCharges'],errors='coerce') # Force errors to be NaN"
   ]
  },
  {
   "cell_type": "code",
   "execution_count": 11,
   "id": "dcc711b8",
   "metadata": {
    "execution": {
     "iopub.execute_input": "2023-05-01T14:08:53.422760Z",
     "iopub.status.busy": "2023-05-01T14:08:53.422036Z",
     "iopub.status.idle": "2023-05-01T14:08:53.455827Z",
     "shell.execute_reply": "2023-05-01T14:08:53.454625Z"
    },
    "papermill": {
     "duration": 0.051353,
     "end_time": "2023-05-01T14:08:53.458415",
     "exception": false,
     "start_time": "2023-05-01T14:08:53.407062",
     "status": "completed"
    },
    "tags": []
   },
   "outputs": [
    {
     "data": {
      "text/html": [
       "<div>\n",
       "<style scoped>\n",
       "    .dataframe tbody tr th:only-of-type {\n",
       "        vertical-align: middle;\n",
       "    }\n",
       "\n",
       "    .dataframe tbody tr th {\n",
       "        vertical-align: top;\n",
       "    }\n",
       "\n",
       "    .dataframe thead th {\n",
       "        text-align: right;\n",
       "    }\n",
       "</style>\n",
       "<table border=\"1\" class=\"dataframe\">\n",
       "  <thead>\n",
       "    <tr style=\"text-align: right;\">\n",
       "      <th></th>\n",
       "      <th>customerID</th>\n",
       "      <th>gender</th>\n",
       "      <th>SeniorCitizen</th>\n",
       "      <th>Partner</th>\n",
       "      <th>Dependents</th>\n",
       "      <th>tenure</th>\n",
       "      <th>PhoneService</th>\n",
       "      <th>MultipleLines</th>\n",
       "      <th>InternetService</th>\n",
       "      <th>OnlineSecurity</th>\n",
       "      <th>OnlineBackup</th>\n",
       "      <th>DeviceProtection</th>\n",
       "      <th>TechSupport</th>\n",
       "      <th>StreamingTV</th>\n",
       "      <th>StreamingMovies</th>\n",
       "      <th>Contract</th>\n",
       "      <th>PaperlessBilling</th>\n",
       "      <th>PaymentMethod</th>\n",
       "      <th>MonthlyCharges</th>\n",
       "      <th>TotalCharges</th>\n",
       "      <th>Churn</th>\n",
       "    </tr>\n",
       "  </thead>\n",
       "  <tbody>\n",
       "    <tr>\n",
       "      <th>488</th>\n",
       "      <td>4472-LVYGI</td>\n",
       "      <td>Female</td>\n",
       "      <td>0</td>\n",
       "      <td>Yes</td>\n",
       "      <td>Yes</td>\n",
       "      <td>0</td>\n",
       "      <td>No</td>\n",
       "      <td>No phone service</td>\n",
       "      <td>DSL</td>\n",
       "      <td>Yes</td>\n",
       "      <td>No</td>\n",
       "      <td>Yes</td>\n",
       "      <td>Yes</td>\n",
       "      <td>Yes</td>\n",
       "      <td>No</td>\n",
       "      <td>Two year</td>\n",
       "      <td>Yes</td>\n",
       "      <td>Bank transfer (automatic)</td>\n",
       "      <td>52.55</td>\n",
       "      <td>NaN</td>\n",
       "      <td>No</td>\n",
       "    </tr>\n",
       "    <tr>\n",
       "      <th>753</th>\n",
       "      <td>3115-CZMZD</td>\n",
       "      <td>Male</td>\n",
       "      <td>0</td>\n",
       "      <td>No</td>\n",
       "      <td>Yes</td>\n",
       "      <td>0</td>\n",
       "      <td>Yes</td>\n",
       "      <td>No</td>\n",
       "      <td>No</td>\n",
       "      <td>No internet service</td>\n",
       "      <td>No internet service</td>\n",
       "      <td>No internet service</td>\n",
       "      <td>No internet service</td>\n",
       "      <td>No internet service</td>\n",
       "      <td>No internet service</td>\n",
       "      <td>Two year</td>\n",
       "      <td>No</td>\n",
       "      <td>Mailed check</td>\n",
       "      <td>20.25</td>\n",
       "      <td>NaN</td>\n",
       "      <td>No</td>\n",
       "    </tr>\n",
       "    <tr>\n",
       "      <th>936</th>\n",
       "      <td>5709-LVOEQ</td>\n",
       "      <td>Female</td>\n",
       "      <td>0</td>\n",
       "      <td>Yes</td>\n",
       "      <td>Yes</td>\n",
       "      <td>0</td>\n",
       "      <td>Yes</td>\n",
       "      <td>No</td>\n",
       "      <td>DSL</td>\n",
       "      <td>Yes</td>\n",
       "      <td>Yes</td>\n",
       "      <td>Yes</td>\n",
       "      <td>No</td>\n",
       "      <td>Yes</td>\n",
       "      <td>Yes</td>\n",
       "      <td>Two year</td>\n",
       "      <td>No</td>\n",
       "      <td>Mailed check</td>\n",
       "      <td>80.85</td>\n",
       "      <td>NaN</td>\n",
       "      <td>No</td>\n",
       "    </tr>\n",
       "    <tr>\n",
       "      <th>1082</th>\n",
       "      <td>4367-NUYAO</td>\n",
       "      <td>Male</td>\n",
       "      <td>0</td>\n",
       "      <td>Yes</td>\n",
       "      <td>Yes</td>\n",
       "      <td>0</td>\n",
       "      <td>Yes</td>\n",
       "      <td>Yes</td>\n",
       "      <td>No</td>\n",
       "      <td>No internet service</td>\n",
       "      <td>No internet service</td>\n",
       "      <td>No internet service</td>\n",
       "      <td>No internet service</td>\n",
       "      <td>No internet service</td>\n",
       "      <td>No internet service</td>\n",
       "      <td>Two year</td>\n",
       "      <td>No</td>\n",
       "      <td>Mailed check</td>\n",
       "      <td>25.75</td>\n",
       "      <td>NaN</td>\n",
       "      <td>No</td>\n",
       "    </tr>\n",
       "    <tr>\n",
       "      <th>1340</th>\n",
       "      <td>1371-DWPAZ</td>\n",
       "      <td>Female</td>\n",
       "      <td>0</td>\n",
       "      <td>Yes</td>\n",
       "      <td>Yes</td>\n",
       "      <td>0</td>\n",
       "      <td>No</td>\n",
       "      <td>No phone service</td>\n",
       "      <td>DSL</td>\n",
       "      <td>Yes</td>\n",
       "      <td>Yes</td>\n",
       "      <td>Yes</td>\n",
       "      <td>Yes</td>\n",
       "      <td>Yes</td>\n",
       "      <td>No</td>\n",
       "      <td>Two year</td>\n",
       "      <td>No</td>\n",
       "      <td>Credit card (automatic)</td>\n",
       "      <td>56.05</td>\n",
       "      <td>NaN</td>\n",
       "      <td>No</td>\n",
       "    </tr>\n",
       "    <tr>\n",
       "      <th>3331</th>\n",
       "      <td>7644-OMVMY</td>\n",
       "      <td>Male</td>\n",
       "      <td>0</td>\n",
       "      <td>Yes</td>\n",
       "      <td>Yes</td>\n",
       "      <td>0</td>\n",
       "      <td>Yes</td>\n",
       "      <td>No</td>\n",
       "      <td>No</td>\n",
       "      <td>No internet service</td>\n",
       "      <td>No internet service</td>\n",
       "      <td>No internet service</td>\n",
       "      <td>No internet service</td>\n",
       "      <td>No internet service</td>\n",
       "      <td>No internet service</td>\n",
       "      <td>Two year</td>\n",
       "      <td>No</td>\n",
       "      <td>Mailed check</td>\n",
       "      <td>19.85</td>\n",
       "      <td>NaN</td>\n",
       "      <td>No</td>\n",
       "    </tr>\n",
       "    <tr>\n",
       "      <th>3826</th>\n",
       "      <td>3213-VVOLG</td>\n",
       "      <td>Male</td>\n",
       "      <td>0</td>\n",
       "      <td>Yes</td>\n",
       "      <td>Yes</td>\n",
       "      <td>0</td>\n",
       "      <td>Yes</td>\n",
       "      <td>Yes</td>\n",
       "      <td>No</td>\n",
       "      <td>No internet service</td>\n",
       "      <td>No internet service</td>\n",
       "      <td>No internet service</td>\n",
       "      <td>No internet service</td>\n",
       "      <td>No internet service</td>\n",
       "      <td>No internet service</td>\n",
       "      <td>Two year</td>\n",
       "      <td>No</td>\n",
       "      <td>Mailed check</td>\n",
       "      <td>25.35</td>\n",
       "      <td>NaN</td>\n",
       "      <td>No</td>\n",
       "    </tr>\n",
       "    <tr>\n",
       "      <th>4380</th>\n",
       "      <td>2520-SGTTA</td>\n",
       "      <td>Female</td>\n",
       "      <td>0</td>\n",
       "      <td>Yes</td>\n",
       "      <td>Yes</td>\n",
       "      <td>0</td>\n",
       "      <td>Yes</td>\n",
       "      <td>No</td>\n",
       "      <td>No</td>\n",
       "      <td>No internet service</td>\n",
       "      <td>No internet service</td>\n",
       "      <td>No internet service</td>\n",
       "      <td>No internet service</td>\n",
       "      <td>No internet service</td>\n",
       "      <td>No internet service</td>\n",
       "      <td>Two year</td>\n",
       "      <td>No</td>\n",
       "      <td>Mailed check</td>\n",
       "      <td>20.00</td>\n",
       "      <td>NaN</td>\n",
       "      <td>No</td>\n",
       "    </tr>\n",
       "    <tr>\n",
       "      <th>5218</th>\n",
       "      <td>2923-ARZLG</td>\n",
       "      <td>Male</td>\n",
       "      <td>0</td>\n",
       "      <td>Yes</td>\n",
       "      <td>Yes</td>\n",
       "      <td>0</td>\n",
       "      <td>Yes</td>\n",
       "      <td>No</td>\n",
       "      <td>No</td>\n",
       "      <td>No internet service</td>\n",
       "      <td>No internet service</td>\n",
       "      <td>No internet service</td>\n",
       "      <td>No internet service</td>\n",
       "      <td>No internet service</td>\n",
       "      <td>No internet service</td>\n",
       "      <td>One year</td>\n",
       "      <td>Yes</td>\n",
       "      <td>Mailed check</td>\n",
       "      <td>19.70</td>\n",
       "      <td>NaN</td>\n",
       "      <td>No</td>\n",
       "    </tr>\n",
       "    <tr>\n",
       "      <th>6670</th>\n",
       "      <td>4075-WKNIU</td>\n",
       "      <td>Female</td>\n",
       "      <td>0</td>\n",
       "      <td>Yes</td>\n",
       "      <td>Yes</td>\n",
       "      <td>0</td>\n",
       "      <td>Yes</td>\n",
       "      <td>Yes</td>\n",
       "      <td>DSL</td>\n",
       "      <td>No</td>\n",
       "      <td>Yes</td>\n",
       "      <td>Yes</td>\n",
       "      <td>Yes</td>\n",
       "      <td>Yes</td>\n",
       "      <td>No</td>\n",
       "      <td>Two year</td>\n",
       "      <td>No</td>\n",
       "      <td>Mailed check</td>\n",
       "      <td>73.35</td>\n",
       "      <td>NaN</td>\n",
       "      <td>No</td>\n",
       "    </tr>\n",
       "    <tr>\n",
       "      <th>6754</th>\n",
       "      <td>2775-SEFEE</td>\n",
       "      <td>Male</td>\n",
       "      <td>0</td>\n",
       "      <td>No</td>\n",
       "      <td>Yes</td>\n",
       "      <td>0</td>\n",
       "      <td>Yes</td>\n",
       "      <td>Yes</td>\n",
       "      <td>DSL</td>\n",
       "      <td>Yes</td>\n",
       "      <td>Yes</td>\n",
       "      <td>No</td>\n",
       "      <td>Yes</td>\n",
       "      <td>No</td>\n",
       "      <td>No</td>\n",
       "      <td>Two year</td>\n",
       "      <td>Yes</td>\n",
       "      <td>Bank transfer (automatic)</td>\n",
       "      <td>61.90</td>\n",
       "      <td>NaN</td>\n",
       "      <td>No</td>\n",
       "    </tr>\n",
       "  </tbody>\n",
       "</table>\n",
       "</div>"
      ],
      "text/plain": [
       "      customerID  gender  SeniorCitizen Partner Dependents  tenure PhoneService     MultipleLines InternetService       OnlineSecurity         OnlineBackup     DeviceProtection          TechSupport          StreamingTV      StreamingMovies  Contract PaperlessBilling              PaymentMethod  MonthlyCharges  TotalCharges Churn\n",
       "488   4472-LVYGI  Female              0     Yes        Yes       0           No  No phone service             DSL                  Yes                   No                  Yes                  Yes                  Yes                   No  Two year              Yes  Bank transfer (automatic)           52.55           NaN    No\n",
       "753   3115-CZMZD    Male              0      No        Yes       0          Yes                No              No  No internet service  No internet service  No internet service  No internet service  No internet service  No internet service  Two year               No               Mailed check           20.25           NaN    No\n",
       "936   5709-LVOEQ  Female              0     Yes        Yes       0          Yes                No             DSL                  Yes                  Yes                  Yes                   No                  Yes                  Yes  Two year               No               Mailed check           80.85           NaN    No\n",
       "1082  4367-NUYAO    Male              0     Yes        Yes       0          Yes               Yes              No  No internet service  No internet service  No internet service  No internet service  No internet service  No internet service  Two year               No               Mailed check           25.75           NaN    No\n",
       "1340  1371-DWPAZ  Female              0     Yes        Yes       0           No  No phone service             DSL                  Yes                  Yes                  Yes                  Yes                  Yes                   No  Two year               No    Credit card (automatic)           56.05           NaN    No\n",
       "3331  7644-OMVMY    Male              0     Yes        Yes       0          Yes                No              No  No internet service  No internet service  No internet service  No internet service  No internet service  No internet service  Two year               No               Mailed check           19.85           NaN    No\n",
       "3826  3213-VVOLG    Male              0     Yes        Yes       0          Yes               Yes              No  No internet service  No internet service  No internet service  No internet service  No internet service  No internet service  Two year               No               Mailed check           25.35           NaN    No\n",
       "4380  2520-SGTTA  Female              0     Yes        Yes       0          Yes                No              No  No internet service  No internet service  No internet service  No internet service  No internet service  No internet service  Two year               No               Mailed check           20.00           NaN    No\n",
       "5218  2923-ARZLG    Male              0     Yes        Yes       0          Yes                No              No  No internet service  No internet service  No internet service  No internet service  No internet service  No internet service  One year              Yes               Mailed check           19.70           NaN    No\n",
       "6670  4075-WKNIU  Female              0     Yes        Yes       0          Yes               Yes             DSL                   No                  Yes                  Yes                  Yes                  Yes                   No  Two year               No               Mailed check           73.35           NaN    No\n",
       "6754  2775-SEFEE    Male              0      No        Yes       0          Yes               Yes             DSL                  Yes                  Yes                   No                  Yes                   No                   No  Two year              Yes  Bank transfer (automatic)           61.90           NaN    No"
      ]
     },
     "execution_count": 11,
     "metadata": {},
     "output_type": "execute_result"
    }
   ],
   "source": [
    "# Determine which rows had NaN data for TotalCharges\n",
    "df[df.isnull().any(axis='columns')]\n",
    "# Rows 488, 753, 936, 1082, 1340, 3331, 3826, 4380, 5218, 6670, 6754 where the cause of the exception"
   ]
  },
  {
   "cell_type": "code",
   "execution_count": 12,
   "id": "42d2e0b5",
   "metadata": {
    "execution": {
     "iopub.execute_input": "2023-05-01T14:08:53.489493Z",
     "iopub.status.busy": "2023-05-01T14:08:53.488712Z",
     "iopub.status.idle": "2023-05-01T14:08:53.496529Z",
     "shell.execute_reply": "2023-05-01T14:08:53.495341Z"
    },
    "papermill": {
     "duration": 0.025929,
     "end_time": "2023-05-01T14:08:53.498896",
     "exception": false,
     "start_time": "2023-05-01T14:08:53.472967",
     "status": "completed"
    },
    "tags": []
   },
   "outputs": [
    {
     "data": {
      "text/plain": [
       "' '"
      ]
     },
     "execution_count": 12,
     "metadata": {},
     "output_type": "execute_result"
    }
   ],
   "source": [
    "# Check one of the rows to see what the value was\n",
    "df_telco.iloc[6670]['TotalCharges']\n",
    "# Result is a string ' ' instead of a numeric value"
   ]
  },
  {
   "cell_type": "code",
   "execution_count": 13,
   "id": "17240bdd",
   "metadata": {
    "execution": {
     "iopub.execute_input": "2023-05-01T14:08:53.529453Z",
     "iopub.status.busy": "2023-05-01T14:08:53.529046Z",
     "iopub.status.idle": "2023-05-01T14:08:53.555708Z",
     "shell.execute_reply": "2023-05-01T14:08:53.554548Z"
    },
    "papermill": {
     "duration": 0.045174,
     "end_time": "2023-05-01T14:08:53.558335",
     "exception": false,
     "start_time": "2023-05-01T14:08:53.513161",
     "status": "completed"
    },
    "tags": []
   },
   "outputs": [
    {
     "data": {
      "text/plain": [
       "customerID          0\n",
       "gender              0\n",
       "SeniorCitizen       0\n",
       "Partner             0\n",
       "Dependents          0\n",
       "tenure              0\n",
       "PhoneService        0\n",
       "MultipleLines       0\n",
       "InternetService     0\n",
       "OnlineSecurity      0\n",
       "OnlineBackup        0\n",
       "DeviceProtection    0\n",
       "TechSupport         0\n",
       "StreamingTV         0\n",
       "StreamingMovies     0\n",
       "Contract            0\n",
       "PaperlessBilling    0\n",
       "PaymentMethod       0\n",
       "MonthlyCharges      0\n",
       "TotalCharges        0\n",
       "Churn               0\n",
       "dtype: int64"
      ]
     },
     "execution_count": 13,
     "metadata": {},
     "output_type": "execute_result"
    }
   ],
   "source": [
    "# Remove NA values for Total Charges since the Tenure was 0.\n",
    "df.dropna(inplace=True)\n",
    "\n",
    "# Recheck for null values\n",
    "df.isnull().sum()"
   ]
  },
  {
   "cell_type": "markdown",
   "id": "be7a0181",
   "metadata": {
    "papermill": {
     "duration": 0.014442,
     "end_time": "2023-05-01T14:08:53.587441",
     "exception": false,
     "start_time": "2023-05-01T14:08:53.572999",
     "status": "completed"
    },
    "tags": []
   },
   "source": [
    "## Check number of unique values for each category"
   ]
  },
  {
   "cell_type": "code",
   "execution_count": 14,
   "id": "dd8bd270",
   "metadata": {
    "execution": {
     "iopub.execute_input": "2023-05-01T14:08:53.618770Z",
     "iopub.status.busy": "2023-05-01T14:08:53.618297Z",
     "iopub.status.idle": "2023-05-01T14:08:53.652365Z",
     "shell.execute_reply": "2023-05-01T14:08:53.650803Z"
    },
    "papermill": {
     "duration": 0.052885,
     "end_time": "2023-05-01T14:08:53.655047",
     "exception": false,
     "start_time": "2023-05-01T14:08:53.602162",
     "status": "completed"
    },
    "tags": []
   },
   "outputs": [
    {
     "name": "stdout",
     "output_type": "stream",
     "text": [
      "customerID: 7032: ['7590-VHVEG' '5575-GNVDE' '3668-QPYBK' ... '4801-JZAZL' '8361-LTMKD'\n",
      " '3186-AJIEK']\n",
      "gender: 2: ['Female' 'Male']\n",
      "Partner: 2: ['Yes' 'No']\n",
      "Dependents: 2: ['No' 'Yes']\n",
      "PhoneService: 2: ['No' 'Yes']\n",
      "MultipleLines: 3: ['No phone service' 'No' 'Yes']\n",
      "InternetService: 3: ['DSL' 'Fiber optic' 'No']\n",
      "OnlineSecurity: 3: ['No' 'Yes' 'No internet service']\n",
      "OnlineBackup: 3: ['Yes' 'No' 'No internet service']\n",
      "DeviceProtection: 3: ['No' 'Yes' 'No internet service']\n",
      "TechSupport: 3: ['No' 'Yes' 'No internet service']\n",
      "StreamingTV: 3: ['No' 'Yes' 'No internet service']\n",
      "StreamingMovies: 3: ['No' 'Yes' 'No internet service']\n",
      "Contract: 3: ['Month-to-month' 'One year' 'Two year']\n",
      "PaperlessBilling: 2: ['Yes' 'No']\n",
      "PaymentMethod: 4: ['Electronic check' 'Mailed check' 'Bank transfer (automatic)'\n",
      " 'Credit card (automatic)']\n",
      "Churn: 2: ['No' 'Yes']\n"
     ]
    }
   ],
   "source": [
    "# Print categorical column labels & Number of Unique Values\n",
    "for i in df.columns:\n",
    "  if df[i].dtype == \"object\":\n",
    "    print(i, df[i].nunique(), pd.unique(df[i]), sep=\": \")\n",
    "  # End if\n",
    "# End for"
   ]
  },
  {
   "cell_type": "markdown",
   "id": "d52d13c6",
   "metadata": {
    "papermill": {
     "duration": 0.014612,
     "end_time": "2023-05-01T14:08:53.684854",
     "exception": false,
     "start_time": "2023-05-01T14:08:53.670242",
     "status": "completed"
    },
    "tags": []
   },
   "source": [
    "The `customerID` column has a unique value for every entry and should not be kept. The `PaymentMethod` column has extra long strings that should be tidied up."
   ]
  },
  {
   "cell_type": "markdown",
   "id": "101c18ba",
   "metadata": {
    "papermill": {
     "duration": 0.014563,
     "end_time": "2023-05-01T14:08:53.714409",
     "exception": false,
     "start_time": "2023-05-01T14:08:53.699846",
     "status": "completed"
    },
    "tags": []
   },
   "source": [
    "## Remap binary variables"
   ]
  },
  {
   "cell_type": "code",
   "execution_count": 15,
   "id": "7b9bd612",
   "metadata": {
    "execution": {
     "iopub.execute_input": "2023-05-01T14:08:53.746400Z",
     "iopub.status.busy": "2023-05-01T14:08:53.745987Z",
     "iopub.status.idle": "2023-05-01T14:08:53.758282Z",
     "shell.execute_reply": "2023-05-01T14:08:53.756885Z"
    },
    "papermill": {
     "duration": 0.031031,
     "end_time": "2023-05-01T14:08:53.760548",
     "exception": false,
     "start_time": "2023-05-01T14:08:53.729517",
     "status": "completed"
    },
    "tags": []
   },
   "outputs": [
    {
     "name": "stdout",
     "output_type": "stream",
     "text": [
      "SeniorCitizen: 2: ['No' 'Yes']\n"
     ]
    }
   ],
   "source": [
    "# Convert Senior Citizen into Yes/No string Data for Data Visualization Purposes Only. Will remap to binary later\n",
    "col = 'SeniorCitizen'\n",
    "class_mapping = {1: \"Yes\", 0: \"No\"}\n",
    "df[col] = df[col].map(class_mapping)\n",
    "print(col, df[col].nunique(), pd.unique(df[col]), sep=\": \")"
   ]
  },
  {
   "cell_type": "markdown",
   "id": "f25f715c",
   "metadata": {
    "papermill": {
     "duration": 0.014311,
     "end_time": "2023-05-01T14:08:53.789745",
     "exception": false,
     "start_time": "2023-05-01T14:08:53.775434",
     "status": "completed"
    },
    "tags": []
   },
   "source": [
    "## Create total number of services column\n",
    "The number of services the customer subscribes to could be valuable information. First, need to save a binary Yes/No result for the `InternetService` since there are two Yes types, then can count the services and save in a new column `NumServices`."
   ]
  },
  {
   "cell_type": "code",
   "execution_count": 16,
   "id": "fbfc5849",
   "metadata": {
    "execution": {
     "iopub.execute_input": "2023-05-01T14:08:53.822032Z",
     "iopub.status.busy": "2023-05-01T14:08:53.820779Z",
     "iopub.status.idle": "2023-05-01T14:08:53.842644Z",
     "shell.execute_reply": "2023-05-01T14:08:53.841538Z"
    },
    "papermill": {
     "duration": 0.040232,
     "end_time": "2023-05-01T14:08:53.844867",
     "exception": false,
     "start_time": "2023-05-01T14:08:53.804635",
     "status": "completed"
    },
    "tags": []
   },
   "outputs": [],
   "source": [
    "# Create a logical variable to keep track of internet service. \n",
    "# This is needed or InternetService will not be counted as a service\n",
    "class_mapping = {\"DSL\": \"Yes\", \"Fiber optic\": \"Yes\", \"No\": \"No\"}\n",
    "df['InternetServiceStatus'] = df['InternetService'].map(class_mapping)\n",
    "\n",
    "# Count the number of services the customer has and add to the data frame\n",
    "ServicesList = [\"PhoneService\", \"InternetServiceStatus\", \"OnlineSecurity\", \"OnlineBackup\", \"DeviceProtection\", \"TechSupport\", \"StreamingTV\", \"StreamingMovies\"]\n",
    "df['NumServices'] = (df[ServicesList] == \"Yes\").sum(axis=1)"
   ]
  },
  {
   "cell_type": "markdown",
   "id": "7c65b88a",
   "metadata": {
    "papermill": {
     "duration": 0.014869,
     "end_time": "2023-05-01T14:08:53.874581",
     "exception": false,
     "start_time": "2023-05-01T14:08:53.859712",
     "status": "completed"
    },
    "tags": []
   },
   "source": [
    "## Drop unnecessary columns and group columns for Exploratory Data Analysis"
   ]
  },
  {
   "cell_type": "code",
   "execution_count": 17,
   "id": "a1db64df",
   "metadata": {
    "execution": {
     "iopub.execute_input": "2023-05-01T14:08:53.906660Z",
     "iopub.status.busy": "2023-05-01T14:08:53.905897Z",
     "iopub.status.idle": "2023-05-01T14:08:53.936400Z",
     "shell.execute_reply": "2023-05-01T14:08:53.935012Z"
    },
    "papermill": {
     "duration": 0.049328,
     "end_time": "2023-05-01T14:08:53.939075",
     "exception": false,
     "start_time": "2023-05-01T14:08:53.889747",
     "status": "completed"
    },
    "tags": []
   },
   "outputs": [
    {
     "name": "stdout",
     "output_type": "stream",
     "text": [
      "Category Columns: ['gender', 'SeniorCitizen', 'Partner', 'Dependents', 'PhoneService', 'MultipleLines', 'InternetService', 'OnlineSecurity', 'OnlineBackup', 'DeviceProtection', 'TechSupport', 'StreamingTV', 'StreamingMovies', 'Contract', 'PaperlessBilling', 'PaymentMethod', 'Churn', 'InternetServiceStatus']\n",
      "Columns to Remove: ['customerID']\n",
      "Numerical Columns: ['tenure', 'MonthlyCharges', 'TotalCharges', 'NumServices']\n",
      "Numerical/Category Columns: []\n"
     ]
    }
   ],
   "source": [
    "# Make lists of the column types\n",
    "cat_cols = [] #Categorical\n",
    "num_cols = [] # Numerical\n",
    "numcat_cols = [] # Numerical (0/1) Category columns\n",
    "columns_to_drop = []\n",
    "# categorical columns are only saved if non-numerical & < 15 unique values\n",
    "# Dropped columns are non-numerical and have >= 15 unique values\n",
    "for i in df.columns:\n",
    "  if df[i].nunique() < 15 and df[i].dtype == \"object\":\n",
    "    cat_cols.append(i)\n",
    "  elif df[i].nunique() >= 15 and df[i].dtype == \"object\":\n",
    "    columns_to_drop.append(i)\n",
    "  elif df[i].dtype in [\"int64\",\"float64\"]:\n",
    "    if df[i].nunique() == 2:\n",
    "        numcat_cols.append(i)\n",
    "    else:\n",
    "        num_cols.append(i)\n",
    "    # End if\n",
    "  # End if\n",
    "# End for\n",
    "# Print number of each type of column\n",
    "print(\"Category Columns:\", cat_cols)\n",
    "print(\"Columns to Remove:\", columns_to_drop)\n",
    "print(\"Numerical Columns:\", num_cols)\n",
    "print(\"Numerical/Category Columns:\", numcat_cols)"
   ]
  },
  {
   "cell_type": "code",
   "execution_count": 18,
   "id": "9fd5bacc",
   "metadata": {
    "execution": {
     "iopub.execute_input": "2023-05-01T14:08:53.971174Z",
     "iopub.status.busy": "2023-05-01T14:08:53.970747Z",
     "iopub.status.idle": "2023-05-01T14:08:53.979663Z",
     "shell.execute_reply": "2023-05-01T14:08:53.978628Z"
    },
    "papermill": {
     "duration": 0.028072,
     "end_time": "2023-05-01T14:08:53.982212",
     "exception": false,
     "start_time": "2023-05-01T14:08:53.954140",
     "status": "completed"
    },
    "tags": []
   },
   "outputs": [],
   "source": [
    "# Drop columns from columns_to_drop list\n",
    "df = df.drop(columns_to_drop,axis=1)"
   ]
  },
  {
   "cell_type": "markdown",
   "id": "1b8fa5f6",
   "metadata": {
    "papermill": {
     "duration": 0.014921,
     "end_time": "2023-05-01T14:08:54.012041",
     "exception": false,
     "start_time": "2023-05-01T14:08:53.997120",
     "status": "completed"
    },
    "tags": []
   },
   "source": [
    "The data columns can be grouped based on their purpose for Exploratory Data Analysis. The three groupings are:\n",
    "* Demographic: `gender`, `SeniorCitizen`, `Partner`, `Dependents`\n",
    "* Account: `tenure`, `Contract`, `PaperlessBilling`, `Payment Method`, `MonthlyCharges`, `TotalCharges`\n",
    "* Services: `PhoneService`, `MultipleLines`, `InternetService`, `OnlineSecurity`, `OnlineBackup`, `DeviceProtection`, `TechSupport`, `StreamingTV`, `StreamingMovies`, `NumServices`"
   ]
  },
  {
   "cell_type": "code",
   "execution_count": 19,
   "id": "2115443e",
   "metadata": {
    "execution": {
     "iopub.execute_input": "2023-05-01T14:08:54.043849Z",
     "iopub.status.busy": "2023-05-01T14:08:54.043461Z",
     "iopub.status.idle": "2023-05-01T14:08:54.048938Z",
     "shell.execute_reply": "2023-05-01T14:08:54.047996Z"
    },
    "papermill": {
     "duration": 0.023924,
     "end_time": "2023-05-01T14:08:54.050996",
     "exception": false,
     "start_time": "2023-05-01T14:08:54.027072",
     "status": "completed"
    },
    "tags": []
   },
   "outputs": [],
   "source": [
    "# Group columns by category: Demographic, Account, Services\n",
    "demographic = ['gender', 'SeniorCitizen', \"Partner\", \"Dependents\"]\n",
    "account = ['tenure', 'Contract', 'PaperlessBilling', 'PaymentMethod', 'MonthlyCharges', \"TotalCharges\"]\n",
    "services = ['PhoneService', 'MultipleLines', 'InternetService', 'OnlineSecurity', 'OnlineBackup', 'DeviceProtection', 'TechSupport', 'StreamingTV', 'StreamingMovies', 'NumServices']"
   ]
  },
  {
   "cell_type": "markdown",
   "id": "145beea9",
   "metadata": {
    "papermill": {
     "duration": 0.014664,
     "end_time": "2023-05-01T14:08:54.080492",
     "exception": false,
     "start_time": "2023-05-01T14:08:54.065828",
     "status": "completed"
    },
    "tags": []
   },
   "source": [
    "## Clean Up Object Data"
   ]
  },
  {
   "cell_type": "code",
   "execution_count": 20,
   "id": "e949d402",
   "metadata": {
    "execution": {
     "iopub.execute_input": "2023-05-01T14:08:54.112513Z",
     "iopub.status.busy": "2023-05-01T14:08:54.111219Z",
     "iopub.status.idle": "2023-05-01T14:08:54.122284Z",
     "shell.execute_reply": "2023-05-01T14:08:54.121004Z"
    },
    "papermill": {
     "duration": 0.029459,
     "end_time": "2023-05-01T14:08:54.124481",
     "exception": false,
     "start_time": "2023-05-01T14:08:54.095022",
     "status": "completed"
    },
    "tags": []
   },
   "outputs": [],
   "source": [
    "# Tidy up the PaymentMethod values since the strings are too long for the visualizations\n",
    "df['PaymentMethod'] = df['PaymentMethod'].str.replace(' (automatic)', '', regex = False)"
   ]
  },
  {
   "cell_type": "markdown",
   "id": "d80a305d",
   "metadata": {
    "papermill": {
     "duration": 0.01463,
     "end_time": "2023-05-01T14:08:54.153972",
     "exception": false,
     "start_time": "2023-05-01T14:08:54.139342",
     "status": "completed"
    },
    "tags": []
   },
   "source": [
    "# Exploratory Data Analysis"
   ]
  },
  {
   "cell_type": "markdown",
   "id": "59390746",
   "metadata": {
    "papermill": {
     "duration": 0.01416,
     "end_time": "2023-05-01T14:08:54.182855",
     "exception": false,
     "start_time": "2023-05-01T14:08:54.168695",
     "status": "completed"
    },
    "tags": []
   },
   "source": [
    "## Numerical Data"
   ]
  },
  {
   "cell_type": "code",
   "execution_count": 21,
   "id": "b7504282",
   "metadata": {
    "execution": {
     "iopub.execute_input": "2023-05-01T14:08:54.214723Z",
     "iopub.status.busy": "2023-05-01T14:08:54.213811Z",
     "iopub.status.idle": "2023-05-01T14:08:54.229173Z",
     "shell.execute_reply": "2023-05-01T14:08:54.227958Z"
    },
    "papermill": {
     "duration": 0.034368,
     "end_time": "2023-05-01T14:08:54.231797",
     "exception": false,
     "start_time": "2023-05-01T14:08:54.197429",
     "status": "completed"
    },
    "tags": []
   },
   "outputs": [
    {
     "data": {
      "text/html": [
       "<div>\n",
       "<style scoped>\n",
       "    .dataframe tbody tr th:only-of-type {\n",
       "        vertical-align: middle;\n",
       "    }\n",
       "\n",
       "    .dataframe tbody tr th {\n",
       "        vertical-align: top;\n",
       "    }\n",
       "\n",
       "    .dataframe thead th {\n",
       "        text-align: right;\n",
       "    }\n",
       "</style>\n",
       "<table border=\"1\" class=\"dataframe\">\n",
       "  <thead>\n",
       "    <tr style=\"text-align: right;\">\n",
       "      <th></th>\n",
       "      <th>tenure</th>\n",
       "      <th>MonthlyCharges</th>\n",
       "      <th>TotalCharges</th>\n",
       "      <th>NumServices</th>\n",
       "    </tr>\n",
       "  </thead>\n",
       "  <tbody>\n",
       "    <tr>\n",
       "      <th>tenure</th>\n",
       "      <td>1.000000</td>\n",
       "      <td>0.246862</td>\n",
       "      <td>0.825880</td>\n",
       "      <td>0.444244</td>\n",
       "    </tr>\n",
       "    <tr>\n",
       "      <th>MonthlyCharges</th>\n",
       "      <td>0.246862</td>\n",
       "      <td>1.000000</td>\n",
       "      <td>0.651065</td>\n",
       "      <td>0.822199</td>\n",
       "    </tr>\n",
       "    <tr>\n",
       "      <th>TotalCharges</th>\n",
       "      <td>0.825880</td>\n",
       "      <td>0.651065</td>\n",
       "      <td>1.000000</td>\n",
       "      <td>0.745824</td>\n",
       "    </tr>\n",
       "    <tr>\n",
       "      <th>NumServices</th>\n",
       "      <td>0.444244</td>\n",
       "      <td>0.822199</td>\n",
       "      <td>0.745824</td>\n",
       "      <td>1.000000</td>\n",
       "    </tr>\n",
       "  </tbody>\n",
       "</table>\n",
       "</div>"
      ],
      "text/plain": [
       "                  tenure  MonthlyCharges  TotalCharges  NumServices\n",
       "tenure          1.000000        0.246862      0.825880     0.444244\n",
       "MonthlyCharges  0.246862        1.000000      0.651065     0.822199\n",
       "TotalCharges    0.825880        0.651065      1.000000     0.745824\n",
       "NumServices     0.444244        0.822199      0.745824     1.000000"
      ]
     },
     "execution_count": 21,
     "metadata": {},
     "output_type": "execute_result"
    }
   ],
   "source": [
    "df[num_cols].corr()"
   ]
  },
  {
   "cell_type": "code",
   "execution_count": 22,
   "id": "250e5052",
   "metadata": {
    "_kg_hide-input": true,
    "execution": {
     "iopub.execute_input": "2023-05-01T14:08:54.264085Z",
     "iopub.status.busy": "2023-05-01T14:08:54.263262Z",
     "iopub.status.idle": "2023-05-01T14:08:54.290960Z",
     "shell.execute_reply": "2023-05-01T14:08:54.290106Z"
    },
    "papermill": {
     "duration": 0.046449,
     "end_time": "2023-05-01T14:08:54.293180",
     "exception": false,
     "start_time": "2023-05-01T14:08:54.246731",
     "status": "completed"
    },
    "tags": []
   },
   "outputs": [
    {
     "data": {
      "text/html": [
       "<div>\n",
       "<style scoped>\n",
       "    .dataframe tbody tr th:only-of-type {\n",
       "        vertical-align: middle;\n",
       "    }\n",
       "\n",
       "    .dataframe tbody tr th {\n",
       "        vertical-align: top;\n",
       "    }\n",
       "\n",
       "    .dataframe thead th {\n",
       "        text-align: right;\n",
       "    }\n",
       "</style>\n",
       "<table border=\"1\" class=\"dataframe\">\n",
       "  <thead>\n",
       "    <tr style=\"text-align: right;\">\n",
       "      <th></th>\n",
       "      <th>tenure</th>\n",
       "      <th>MonthlyCharges</th>\n",
       "      <th>TotalCharges</th>\n",
       "      <th>NumServices</th>\n",
       "    </tr>\n",
       "  </thead>\n",
       "  <tbody>\n",
       "    <tr>\n",
       "      <th>count</th>\n",
       "      <td>7032.000000</td>\n",
       "      <td>7032.000000</td>\n",
       "      <td>7032.000000</td>\n",
       "      <td>7032.000000</td>\n",
       "    </tr>\n",
       "    <tr>\n",
       "      <th>mean</th>\n",
       "      <td>32.421786</td>\n",
       "      <td>64.798208</td>\n",
       "      <td>2283.300441</td>\n",
       "      <td>3.725256</td>\n",
       "    </tr>\n",
       "    <tr>\n",
       "      <th>std</th>\n",
       "      <td>24.545260</td>\n",
       "      <td>30.085974</td>\n",
       "      <td>2266.771362</td>\n",
       "      <td>2.099542</td>\n",
       "    </tr>\n",
       "    <tr>\n",
       "      <th>min</th>\n",
       "      <td>1.000000</td>\n",
       "      <td>18.250000</td>\n",
       "      <td>18.800000</td>\n",
       "      <td>1.000000</td>\n",
       "    </tr>\n",
       "    <tr>\n",
       "      <th>25%</th>\n",
       "      <td>9.000000</td>\n",
       "      <td>35.587500</td>\n",
       "      <td>401.450000</td>\n",
       "      <td>2.000000</td>\n",
       "    </tr>\n",
       "    <tr>\n",
       "      <th>50%</th>\n",
       "      <td>29.000000</td>\n",
       "      <td>70.350000</td>\n",
       "      <td>1397.475000</td>\n",
       "      <td>4.000000</td>\n",
       "    </tr>\n",
       "    <tr>\n",
       "      <th>75%</th>\n",
       "      <td>55.000000</td>\n",
       "      <td>89.862500</td>\n",
       "      <td>3794.737500</td>\n",
       "      <td>5.000000</td>\n",
       "    </tr>\n",
       "    <tr>\n",
       "      <th>max</th>\n",
       "      <td>72.000000</td>\n",
       "      <td>118.750000</td>\n",
       "      <td>8684.800000</td>\n",
       "      <td>8.000000</td>\n",
       "    </tr>\n",
       "  </tbody>\n",
       "</table>\n",
       "</div>"
      ],
      "text/plain": [
       "            tenure  MonthlyCharges  TotalCharges  NumServices\n",
       "count  7032.000000     7032.000000   7032.000000  7032.000000\n",
       "mean     32.421786       64.798208   2283.300441     3.725256\n",
       "std      24.545260       30.085974   2266.771362     2.099542\n",
       "min       1.000000       18.250000     18.800000     1.000000\n",
       "25%       9.000000       35.587500    401.450000     2.000000\n",
       "50%      29.000000       70.350000   1397.475000     4.000000\n",
       "75%      55.000000       89.862500   3794.737500     5.000000\n",
       "max      72.000000      118.750000   8684.800000     8.000000"
      ]
     },
     "execution_count": 22,
     "metadata": {},
     "output_type": "execute_result"
    }
   ],
   "source": [
    "# Look at properties of columns with numeric (float) values\n",
    "df.describe()"
   ]
  },
  {
   "cell_type": "code",
   "execution_count": 23,
   "id": "42c62b0c",
   "metadata": {
    "execution": {
     "iopub.execute_input": "2023-05-01T14:08:54.325949Z",
     "iopub.status.busy": "2023-05-01T14:08:54.325137Z",
     "iopub.status.idle": "2023-05-01T14:08:54.350789Z",
     "shell.execute_reply": "2023-05-01T14:08:54.349645Z"
    },
    "papermill": {
     "duration": 0.045039,
     "end_time": "2023-05-01T14:08:54.353473",
     "exception": false,
     "start_time": "2023-05-01T14:08:54.308434",
     "status": "completed"
    },
    "tags": []
   },
   "outputs": [
    {
     "data": {
      "text/html": [
       "<div>\n",
       "<style scoped>\n",
       "    .dataframe tbody tr th:only-of-type {\n",
       "        vertical-align: middle;\n",
       "    }\n",
       "\n",
       "    .dataframe tbody tr th {\n",
       "        vertical-align: top;\n",
       "    }\n",
       "\n",
       "    .dataframe thead th {\n",
       "        text-align: right;\n",
       "    }\n",
       "</style>\n",
       "<table border=\"1\" class=\"dataframe\">\n",
       "  <thead>\n",
       "    <tr style=\"text-align: right;\">\n",
       "      <th></th>\n",
       "      <th>tenure</th>\n",
       "      <th>MonthlyCharges</th>\n",
       "      <th>TotalCharges</th>\n",
       "      <th>NumServices</th>\n",
       "    </tr>\n",
       "  </thead>\n",
       "  <tbody>\n",
       "    <tr>\n",
       "      <th>count</th>\n",
       "      <td>1869.000000</td>\n",
       "      <td>1869.000000</td>\n",
       "      <td>1869.000000</td>\n",
       "      <td>1869.000000</td>\n",
       "    </tr>\n",
       "    <tr>\n",
       "      <th>mean</th>\n",
       "      <td>17.979133</td>\n",
       "      <td>74.441332</td>\n",
       "      <td>1531.796094</td>\n",
       "      <td>3.616907</td>\n",
       "    </tr>\n",
       "    <tr>\n",
       "      <th>std</th>\n",
       "      <td>19.531123</td>\n",
       "      <td>24.666053</td>\n",
       "      <td>1890.822994</td>\n",
       "      <td>1.609944</td>\n",
       "    </tr>\n",
       "    <tr>\n",
       "      <th>min</th>\n",
       "      <td>1.000000</td>\n",
       "      <td>18.850000</td>\n",
       "      <td>18.850000</td>\n",
       "      <td>1.000000</td>\n",
       "    </tr>\n",
       "    <tr>\n",
       "      <th>25%</th>\n",
       "      <td>2.000000</td>\n",
       "      <td>56.150000</td>\n",
       "      <td>134.500000</td>\n",
       "      <td>2.000000</td>\n",
       "    </tr>\n",
       "    <tr>\n",
       "      <th>50%</th>\n",
       "      <td>10.000000</td>\n",
       "      <td>79.650000</td>\n",
       "      <td>703.550000</td>\n",
       "      <td>3.000000</td>\n",
       "    </tr>\n",
       "    <tr>\n",
       "      <th>75%</th>\n",
       "      <td>29.000000</td>\n",
       "      <td>94.200000</td>\n",
       "      <td>2331.300000</td>\n",
       "      <td>5.000000</td>\n",
       "    </tr>\n",
       "    <tr>\n",
       "      <th>max</th>\n",
       "      <td>72.000000</td>\n",
       "      <td>118.350000</td>\n",
       "      <td>8684.800000</td>\n",
       "      <td>8.000000</td>\n",
       "    </tr>\n",
       "  </tbody>\n",
       "</table>\n",
       "</div>"
      ],
      "text/plain": [
       "            tenure  MonthlyCharges  TotalCharges  NumServices\n",
       "count  1869.000000     1869.000000   1869.000000  1869.000000\n",
       "mean     17.979133       74.441332   1531.796094     3.616907\n",
       "std      19.531123       24.666053   1890.822994     1.609944\n",
       "min       1.000000       18.850000     18.850000     1.000000\n",
       "25%       2.000000       56.150000    134.500000     2.000000\n",
       "50%      10.000000       79.650000    703.550000     3.000000\n",
       "75%      29.000000       94.200000   2331.300000     5.000000\n",
       "max      72.000000      118.350000   8684.800000     8.000000"
      ]
     },
     "execution_count": 23,
     "metadata": {},
     "output_type": "execute_result"
    }
   ],
   "source": [
    "# Properties if Churn=Yes\n",
    "df[df['Churn']=='Yes'].describe()"
   ]
  },
  {
   "cell_type": "code",
   "execution_count": 24,
   "id": "b64cf69c",
   "metadata": {
    "execution": {
     "iopub.execute_input": "2023-05-01T14:08:54.386749Z",
     "iopub.status.busy": "2023-05-01T14:08:54.386341Z",
     "iopub.status.idle": "2023-05-01T14:08:54.413690Z",
     "shell.execute_reply": "2023-05-01T14:08:54.412572Z"
    },
    "papermill": {
     "duration": 0.046813,
     "end_time": "2023-05-01T14:08:54.416185",
     "exception": false,
     "start_time": "2023-05-01T14:08:54.369372",
     "status": "completed"
    },
    "tags": []
   },
   "outputs": [
    {
     "data": {
      "text/html": [
       "<div>\n",
       "<style scoped>\n",
       "    .dataframe tbody tr th:only-of-type {\n",
       "        vertical-align: middle;\n",
       "    }\n",
       "\n",
       "    .dataframe tbody tr th {\n",
       "        vertical-align: top;\n",
       "    }\n",
       "\n",
       "    .dataframe thead th {\n",
       "        text-align: right;\n",
       "    }\n",
       "</style>\n",
       "<table border=\"1\" class=\"dataframe\">\n",
       "  <thead>\n",
       "    <tr style=\"text-align: right;\">\n",
       "      <th></th>\n",
       "      <th>tenure</th>\n",
       "      <th>MonthlyCharges</th>\n",
       "      <th>TotalCharges</th>\n",
       "      <th>NumServices</th>\n",
       "    </tr>\n",
       "  </thead>\n",
       "  <tbody>\n",
       "    <tr>\n",
       "      <th>count</th>\n",
       "      <td>5163.00000</td>\n",
       "      <td>5163.000000</td>\n",
       "      <td>5163.000000</td>\n",
       "      <td>5163.000000</td>\n",
       "    </tr>\n",
       "    <tr>\n",
       "      <th>mean</th>\n",
       "      <td>37.65001</td>\n",
       "      <td>61.307408</td>\n",
       "      <td>2555.344141</td>\n",
       "      <td>3.764478</td>\n",
       "    </tr>\n",
       "    <tr>\n",
       "      <th>std</th>\n",
       "      <td>24.07694</td>\n",
       "      <td>31.094557</td>\n",
       "      <td>2329.456984</td>\n",
       "      <td>2.249526</td>\n",
       "    </tr>\n",
       "    <tr>\n",
       "      <th>min</th>\n",
       "      <td>1.00000</td>\n",
       "      <td>18.250000</td>\n",
       "      <td>18.800000</td>\n",
       "      <td>1.000000</td>\n",
       "    </tr>\n",
       "    <tr>\n",
       "      <th>25%</th>\n",
       "      <td>15.00000</td>\n",
       "      <td>25.100000</td>\n",
       "      <td>577.825000</td>\n",
       "      <td>1.000000</td>\n",
       "    </tr>\n",
       "    <tr>\n",
       "      <th>50%</th>\n",
       "      <td>38.00000</td>\n",
       "      <td>64.450000</td>\n",
       "      <td>1683.600000</td>\n",
       "      <td>4.000000</td>\n",
       "    </tr>\n",
       "    <tr>\n",
       "      <th>75%</th>\n",
       "      <td>61.00000</td>\n",
       "      <td>88.475000</td>\n",
       "      <td>4264.125000</td>\n",
       "      <td>6.000000</td>\n",
       "    </tr>\n",
       "    <tr>\n",
       "      <th>max</th>\n",
       "      <td>72.00000</td>\n",
       "      <td>118.750000</td>\n",
       "      <td>8672.450000</td>\n",
       "      <td>8.000000</td>\n",
       "    </tr>\n",
       "  </tbody>\n",
       "</table>\n",
       "</div>"
      ],
      "text/plain": [
       "           tenure  MonthlyCharges  TotalCharges  NumServices\n",
       "count  5163.00000     5163.000000   5163.000000  5163.000000\n",
       "mean     37.65001       61.307408   2555.344141     3.764478\n",
       "std      24.07694       31.094557   2329.456984     2.249526\n",
       "min       1.00000       18.250000     18.800000     1.000000\n",
       "25%      15.00000       25.100000    577.825000     1.000000\n",
       "50%      38.00000       64.450000   1683.600000     4.000000\n",
       "75%      61.00000       88.475000   4264.125000     6.000000\n",
       "max      72.00000      118.750000   8672.450000     8.000000"
      ]
     },
     "execution_count": 24,
     "metadata": {},
     "output_type": "execute_result"
    }
   ],
   "source": [
    "# Properties if Churn=Yes\n",
    "df[df['Churn']=='No'].describe()"
   ]
  },
  {
   "cell_type": "code",
   "execution_count": 25,
   "id": "b24225fc",
   "metadata": {
    "execution": {
     "iopub.execute_input": "2023-05-01T14:08:54.450291Z",
     "iopub.status.busy": "2023-05-01T14:08:54.449613Z",
     "iopub.status.idle": "2023-05-01T14:08:55.587094Z",
     "shell.execute_reply": "2023-05-01T14:08:55.585769Z"
    },
    "papermill": {
     "duration": 1.157066,
     "end_time": "2023-05-01T14:08:55.589698",
     "exception": false,
     "start_time": "2023-05-01T14:08:54.432632",
     "status": "completed"
    },
    "tags": []
   },
   "outputs": [
    {
     "data": {
      "image/png": "[encoded data removed]",
      "text/plain": [
       "<Figure size 800x800 with 4 Axes>"
      ]
     },
     "metadata": {},
     "output_type": "display_data"
    }
   ],
   "source": [
    "# Multiple plot of numerical values\n",
    "f, axs = plt.subplots(2,2, figsize=(8,8),sharey=True)\n",
    "sns.histplot(data=df[num_cols[0]],stat='percent',ax=axs[0,0])\n",
    "sns.histplot(data=df[num_cols[1]],stat='percent',ax=axs[1,0])\n",
    "sns.histplot(data=df[num_cols[2]],stat='percent',ax=axs[0,1])\n",
    "sns.histplot(data=df[num_cols[3]],stat='percent',ax=axs[1,1])\n",
    "f.tight_layout()\n",
    "plt.savefig('Numerical.png')\n",
    "plt.show()"
   ]
  },
  {
   "cell_type": "code",
   "execution_count": 26,
   "id": "f784fa04",
   "metadata": {
    "execution": {
     "iopub.execute_input": "2023-05-01T14:08:55.625947Z",
     "iopub.status.busy": "2023-05-01T14:08:55.624771Z",
     "iopub.status.idle": "2023-05-01T14:08:56.679491Z",
     "shell.execute_reply": "2023-05-01T14:08:56.678087Z"
    },
    "papermill": {
     "duration": 1.075313,
     "end_time": "2023-05-01T14:08:56.682031",
     "exception": false,
     "start_time": "2023-05-01T14:08:55.606718",
     "status": "completed"
    },
    "tags": []
   },
   "outputs": [
    {
     "data": {
      "image/png": "[encoded data removed]",
      "text/plain": [
       "<Figure size 640x480 with 1 Axes>"
      ]
     },
     "metadata": {},
     "output_type": "display_data"
    },
    {
     "data": {
      "image/png": "[encoded data removed]",
      "text/plain": [
       "<Figure size 640x480 with 1 Axes>"
      ]
     },
     "metadata": {},
     "output_type": "display_data"
    },
    {
     "data": {
      "image/png": "[encoded data removed]",
      "text/plain": [
       "<Figure size 640x480 with 1 Axes>"
      ]
     },
     "metadata": {},
     "output_type": "display_data"
    },
    {
     "data": {
      "image/png": "[encoded data removed]",
      "text/plain": [
       "<Figure size 640x480 with 1 Axes>"
      ]
     },
     "metadata": {},
     "output_type": "display_data"
    }
   ],
   "source": [
    "# Plot numerical data columns as a histogram\n",
    "for col in num_cols:\n",
    "    sns.histplot(data=df[col],stat='percent')\n",
    "    plt.show()"
   ]
  },
  {
   "cell_type": "markdown",
   "id": "386e4832",
   "metadata": {
    "papermill": {
     "duration": 0.018842,
     "end_time": "2023-05-01T14:08:56.718626",
     "exception": false,
     "start_time": "2023-05-01T14:08:56.699784",
     "status": "completed"
    },
    "tags": []
   },
   "source": [
    "## Category ratios"
   ]
  },
  {
   "cell_type": "code",
   "execution_count": 27,
   "id": "6ef4a071",
   "metadata": {
    "execution": {
     "iopub.execute_input": "2023-05-01T14:08:56.756765Z",
     "iopub.status.busy": "2023-05-01T14:08:56.756342Z",
     "iopub.status.idle": "2023-05-01T14:08:56.793342Z",
     "shell.execute_reply": "2023-05-01T14:08:56.791879Z"
    },
    "papermill": {
     "duration": 0.059877,
     "end_time": "2023-05-01T14:08:56.796455",
     "exception": false,
     "start_time": "2023-05-01T14:08:56.736578",
     "status": "completed"
    },
    "tags": []
   },
   "outputs": [
    {
     "name": "stdout",
     "output_type": "stream",
     "text": [
      "Male      0.504693\n",
      "Female    0.495307\n",
      "Name: gender, dtype: float64\n",
      "No     0.8376\n",
      "Yes    0.1624\n",
      "Name: SeniorCitizen, dtype: float64\n",
      "No     0.517491\n",
      "Yes    0.482509\n",
      "Name: Partner, dtype: float64\n",
      "No     0.701507\n",
      "Yes    0.298493\n",
      "Name: Dependents, dtype: float64\n",
      "Yes    0.903299\n",
      "No     0.096701\n",
      "Name: PhoneService, dtype: float64\n",
      "No                  0.481371\n",
      "Yes                 0.421928\n",
      "No phone service    0.096701\n",
      "Name: MultipleLines, dtype: float64\n",
      "Fiber optic    0.440273\n",
      "DSL            0.343572\n",
      "No             0.216155\n",
      "Name: InternetService, dtype: float64\n",
      "No                     0.497298\n",
      "Yes                    0.286547\n",
      "No internet service    0.216155\n",
      "Name: OnlineSecurity, dtype: float64\n",
      "No                     0.438993\n",
      "Yes                    0.344852\n",
      "No internet service    0.216155\n",
      "Name: OnlineBackup, dtype: float64\n",
      "No                     0.439989\n",
      "Yes                    0.343857\n",
      "No internet service    0.216155\n",
      "Name: DeviceProtection, dtype: float64\n",
      "No                     0.493743\n",
      "Yes                    0.290102\n",
      "No internet service    0.216155\n",
      "Name: TechSupport, dtype: float64\n",
      "No                     0.399460\n",
      "Yes                    0.384386\n",
      "No internet service    0.216155\n",
      "Name: StreamingTV, dtype: float64\n",
      "No                     0.395478\n",
      "Yes                    0.388367\n",
      "No internet service    0.216155\n",
      "Name: StreamingMovies, dtype: float64\n",
      "Month-to-month    0.551052\n",
      "Two year          0.239619\n",
      "One year          0.209329\n",
      "Name: Contract, dtype: float64\n",
      "Yes    0.592719\n",
      "No     0.407281\n",
      "Name: PaperlessBilling, dtype: float64\n",
      "Electronic check    0.336320\n",
      "Mailed check        0.228100\n",
      "Bank transfer       0.219283\n",
      "Credit card         0.216297\n",
      "Name: PaymentMethod, dtype: float64\n",
      "No     0.734215\n",
      "Yes    0.265785\n",
      "Name: Churn, dtype: float64\n",
      "Yes    0.783845\n",
      "No     0.216155\n",
      "Name: InternetServiceStatus, dtype: float64\n"
     ]
    }
   ],
   "source": [
    "# Print ratios of each category\n",
    "for col in cat_cols:\n",
    "    print(df[col].value_counts()/len(df))"
   ]
  },
  {
   "cell_type": "markdown",
   "id": "f52d592f",
   "metadata": {
    "papermill": {
     "duration": 0.017697,
     "end_time": "2023-05-01T14:08:56.831546",
     "exception": false,
     "start_time": "2023-05-01T14:08:56.813849",
     "status": "completed"
    },
    "tags": []
   },
   "source": [
    "## Demographic Information"
   ]
  },
  {
   "cell_type": "code",
   "execution_count": 28,
   "id": "1974e183",
   "metadata": {
    "execution": {
     "iopub.execute_input": "2023-05-01T14:08:56.868654Z",
     "iopub.status.busy": "2023-05-01T14:08:56.867768Z",
     "iopub.status.idle": "2023-05-01T14:08:58.913457Z",
     "shell.execute_reply": "2023-05-01T14:08:58.912279Z"
    },
    "papermill": {
     "duration": 2.066933,
     "end_time": "2023-05-01T14:08:58.915807",
     "exception": false,
     "start_time": "2023-05-01T14:08:56.848874",
     "status": "completed"
    },
    "tags": []
   },
   "outputs": [
    {
     "data": {
      "image/png": "[encoded data removed]",
      "text/plain": [
       "<Figure size 640x480 with 1 Axes>"
      ]
     },
     "metadata": {},
     "output_type": "display_data"
    },
    {
     "data": {
      "image/png": "[encoded data removed]",
      "text/plain": [
       "<Figure size 640x480 with 1 Axes>"
      ]
     },
     "metadata": {},
     "output_type": "display_data"
    },
    {
     "data": {
      "image/png": "[encoded data removed]",
      "text/plain": [
       "<Figure size 640x480 with 1 Axes>"
      ]
     },
     "metadata": {},
     "output_type": "display_data"
    },
    {
     "data": {
      "image/png": "[encoded data removed]",
      "text/plain": [
       "<Figure size 640x480 with 1 Axes>"
      ]
     },
     "metadata": {},
     "output_type": "display_data"
    }
   ],
   "source": [
    "for col in demographic:\n",
    "    sns.histplot(x=df[col],data=df,stat='percent',hue=df['Churn'],multiple='stack')\n",
    "    plt.show()"
   ]
  },
  {
   "cell_type": "markdown",
   "id": "440d3874",
   "metadata": {
    "papermill": {
     "duration": 0.018489,
     "end_time": "2023-05-01T14:08:58.953846",
     "exception": false,
     "start_time": "2023-05-01T14:08:58.935357",
     "status": "completed"
    },
    "tags": []
   },
   "source": [
    "## Account Information"
   ]
  },
  {
   "cell_type": "code",
   "execution_count": 29,
   "id": "785cd4c9",
   "metadata": {
    "execution": {
     "iopub.execute_input": "2023-05-01T14:08:58.993283Z",
     "iopub.status.busy": "2023-05-01T14:08:58.992807Z",
     "iopub.status.idle": "2023-05-01T14:09:01.893713Z",
     "shell.execute_reply": "2023-05-01T14:09:01.892455Z"
    },
    "papermill": {
     "duration": 2.924872,
     "end_time": "2023-05-01T14:09:01.897447",
     "exception": false,
     "start_time": "2023-05-01T14:08:58.972575",
     "status": "completed"
    },
    "tags": []
   },
   "outputs": [
    {
     "data": {
      "image/png": "[encoded data removed]",
      "text/plain": [
       "<Figure size 640x480 with 1 Axes>"
      ]
     },
     "metadata": {},
     "output_type": "display_data"
    },
    {
     "data": {
      "image/png": "[encoded data removed]",
      "text/plain": [
       "<Figure size 640x480 with 1 Axes>"
      ]
     },
     "metadata": {},
     "output_type": "display_data"
    },
    {
     "data": {
      "image/png": "[encoded data removed]",
      "text/plain": [
       "<Figure size 640x480 with 1 Axes>"
      ]
     },
     "metadata": {},
     "output_type": "display_data"
    },
    {
     "data": {
      "image/png": "[encoded data removed]",
      "text/plain": [
       "<Figure size 640x480 with 1 Axes>"
      ]
     },
     "metadata": {},
     "output_type": "display_data"
    },
    {
     "data": {
      "image/png": "[encoded data removed]",
      "text/plain": [
       "<Figure size 640x480 with 1 Axes>"
      ]
     },
     "metadata": {},
     "output_type": "display_data"
    },
    {
     "data": {
      "image/png": "[encoded data removed]",
      "text/plain": [
       "<Figure size 640x480 with 1 Axes>"
      ]
     },
     "metadata": {},
     "output_type": "display_data"
    }
   ],
   "source": [
    "for col in account:\n",
    "    sns.histplot(x=df[col],data=df,stat='percent',hue=df['Churn'],multiple='stack')\n",
    "    plt.show()"
   ]
  },
  {
   "cell_type": "markdown",
   "id": "6294b738",
   "metadata": {
    "papermill": {
     "duration": 0.025231,
     "end_time": "2023-05-01T14:09:01.951712",
     "exception": false,
     "start_time": "2023-05-01T14:09:01.926481",
     "status": "completed"
    },
    "tags": []
   },
   "source": [
    "## Services Information"
   ]
  },
  {
   "cell_type": "code",
   "execution_count": 30,
   "id": "521d9456",
   "metadata": {
    "execution": {
     "iopub.execute_input": "2023-05-01T14:09:01.997151Z",
     "iopub.status.busy": "2023-05-01T14:09:01.995795Z",
     "iopub.status.idle": "2023-05-01T14:09:06.944425Z",
     "shell.execute_reply": "2023-05-01T14:09:06.942974Z"
    },
    "papermill": {
     "duration": 4.974033,
     "end_time": "2023-05-01T14:09:06.947227",
     "exception": false,
     "start_time": "2023-05-01T14:09:01.973194",
     "status": "completed"
    },
    "tags": []
   },
   "outputs": [
    {
     "data": {
      "image/png": "[encoded data removed]",
      "text/plain": [
       "<Figure size 640x480 with 1 Axes>"
      ]
     },
     "metadata": {},
     "output_type": "display_data"
    },
    {
     "data": {
      "image/png": "[encoded data removed]",
      "text/plain": [
       "<Figure size 640x480 with 1 Axes>"
      ]
     },
     "metadata": {},
     "output_type": "display_data"
    },
    {
     "data": {
      "image/png": "[encoded data removed]",
      "text/plain": [
       "<Figure size 640x480 with 1 Axes>"
      ]
     },
     "metadata": {},
     "output_type": "display_data"
    },
    {
     "data": {
      "image/png": "[encoded data removed]",
      "text/plain": [
       "<Figure size 640x480 with 1 Axes>"
      ]
     },
     "metadata": {},
     "output_type": "display_data"
    },
    {
     "data": {
      "image/png": "[encoded data removed]",
      "text/plain": [
       "<Figure size 640x480 with 1 Axes>"
      ]
     },
     "metadata": {},
     "output_type": "display_data"
    },
    {
     "data": {
      "image/png": "[encoded data removed]",
      "text/plain": [
       "<Figure size 640x480 with 1 Axes>"
      ]
     },
     "metadata": {},
     "output_type": "display_data"
    },
    {
     "data": {
      "image/png": "[encoded data removed]",
      "text/plain": [
       "<Figure size 640x480 with 1 Axes>"
      ]
     },
     "metadata": {},
     "output_type": "display_data"
    },
    {
     "data": {
      "image/png": "[encoded data removed]",
      "text/plain": [
       "<Figure size 640x480 with 1 Axes>"
      ]
     },
     "metadata": {},
     "output_type": "display_data"
    },
    {
     "data": {
      "image/png": "[encoded data removed]",
      "text/plain": [
       "<Figure size 640x480 with 1 Axes>"
      ]
     },
     "metadata": {},
     "output_type": "display_data"
    },
    {
     "data": {
      "image/png": "[encoded data removed]",
      "text/plain": [
       "<Figure size 640x480 with 1 Axes>"
      ]
     },
     "metadata": {},
     "output_type": "display_data"
    }
   ],
   "source": [
    "for col in services:\n",
    "    sns.histplot(x=df[col],data=df,stat='percent',hue=df['Churn'],multiple='stack')\n",
    "    plt.show()"
   ]
  },
  {
   "cell_type": "markdown",
   "id": "eda2cb23",
   "metadata": {
    "papermill": {
     "duration": 0.023964,
     "end_time": "2023-05-01T14:09:06.996138",
     "exception": false,
     "start_time": "2023-05-01T14:09:06.972174",
     "status": "completed"
    },
    "tags": []
   },
   "source": [
    "## Feature Importance"
   ]
  },
  {
   "cell_type": "code",
   "execution_count": 31,
   "id": "b8dc3e89",
   "metadata": {
    "execution": {
     "iopub.execute_input": "2023-05-01T14:09:07.046026Z",
     "iopub.status.busy": "2023-05-01T14:09:07.045582Z",
     "iopub.status.idle": "2023-05-01T14:09:07.270366Z",
     "shell.execute_reply": "2023-05-01T14:09:07.268714Z"
    },
    "papermill": {
     "duration": 0.252869,
     "end_time": "2023-05-01T14:09:07.273198",
     "exception": false,
     "start_time": "2023-05-01T14:09:07.020329",
     "status": "completed"
    },
    "tags": []
   },
   "outputs": [
    {
     "name": "stdout",
     "output_type": "stream",
     "text": [
      "Contract                 0.098182\n",
      "OnlineSecurity           0.064528\n",
      "TechSupport              0.062873\n",
      "InternetService          0.055394\n",
      "OnlineBackup             0.046659\n",
      "PaymentMethod            0.044423\n",
      "DeviceProtection         0.043784\n",
      "StreamingMovies          0.031918\n",
      "StreamingTV              0.031803\n",
      "InternetServiceStatus    0.031274\n",
      "PaperlessBilling         0.019119\n",
      "Dependents               0.014270\n",
      "Partner                  0.011383\n",
      "SeniorCitizen            0.010533\n",
      "MultipleLines            0.000798\n",
      "PhoneService             0.000069\n",
      "gender                   0.000037\n",
      "dtype: float64\n"
     ]
    }
   ],
   "source": [
    "# Use the mutual info score to get a rudimentary ranking of which category variables are important\n",
    "feature_importance = {}\n",
    "for col in cat_cols:\n",
    "    if col != \"Churn\":\n",
    "        fi = mutual_info_score(df[col],df.Churn)\n",
    "        feature_importance[col] = (fi)\n",
    "    # End if\n",
    "# End for\n",
    "\n",
    "# Convert dictionary to pandas series and sort\n",
    "feature_importance = pd.Series(feature_importance).sort_values(ascending=False)\n",
    "print(feature_importance)"
   ]
  },
  {
   "cell_type": "code",
   "execution_count": 32,
   "id": "0fe3633c",
   "metadata": {
    "execution": {
     "iopub.execute_input": "2023-05-01T14:09:07.324385Z",
     "iopub.status.busy": "2023-05-01T14:09:07.323810Z",
     "iopub.status.idle": "2023-05-01T14:09:07.658999Z",
     "shell.execute_reply": "2023-05-01T14:09:07.657715Z"
    },
    "papermill": {
     "duration": 0.363674,
     "end_time": "2023-05-01T14:09:07.661725",
     "exception": false,
     "start_time": "2023-05-01T14:09:07.298051",
     "status": "completed"
    },
    "tags": []
   },
   "outputs": [
    {
     "data": {
      "image/png": "[encoded data removed]",
      "text/plain": [
       "<Figure size 640x480 with 1 Axes>"
      ]
     },
     "metadata": {},
     "output_type": "display_data"
    }
   ],
   "source": [
    "sns.barplot(y=feature_importance.index,x=feature_importance.values)\n",
    "plt.xlabel(\"Feature Importance\")\n",
    "plt.show()"
   ]
  },
  {
   "cell_type": "markdown",
   "id": "c3e394e5",
   "metadata": {
    "papermill": {
     "duration": 0.024584,
     "end_time": "2023-05-01T14:09:07.712265",
     "exception": false,
     "start_time": "2023-05-01T14:09:07.687681",
     "status": "completed"
    },
    "tags": []
   },
   "source": [
    "# Feature Engineering"
   ]
  },
  {
   "cell_type": "markdown",
   "id": "3a553a05",
   "metadata": {
    "papermill": {
     "duration": 0.024433,
     "end_time": "2023-05-01T14:09:07.761626",
     "exception": false,
     "start_time": "2023-05-01T14:09:07.737193",
     "status": "completed"
    },
    "tags": []
   },
   "source": [
    "## Label Encoding\n",
    "\n",
    "### Binary Data"
   ]
  },
  {
   "cell_type": "code",
   "execution_count": 33,
   "id": "25859c53",
   "metadata": {
    "execution": {
     "iopub.execute_input": "2023-05-01T14:09:07.814275Z",
     "iopub.status.busy": "2023-05-01T14:09:07.813014Z",
     "iopub.status.idle": "2023-05-01T14:09:07.820099Z",
     "shell.execute_reply": "2023-05-01T14:09:07.818798Z"
    },
    "papermill": {
     "duration": 0.035852,
     "end_time": "2023-05-01T14:09:07.822734",
     "exception": false,
     "start_time": "2023-05-01T14:09:07.786882",
     "status": "completed"
    },
    "tags": []
   },
   "outputs": [],
   "source": [
    "# Copy data\n",
    "dfT = df.copy()"
   ]
  },
  {
   "cell_type": "code",
   "execution_count": 34,
   "id": "837038f3",
   "metadata": {
    "execution": {
     "iopub.execute_input": "2023-05-01T14:09:07.875594Z",
     "iopub.status.busy": "2023-05-01T14:09:07.875142Z",
     "iopub.status.idle": "2023-05-01T14:09:07.904952Z",
     "shell.execute_reply": "2023-05-01T14:09:07.903549Z"
    },
    "papermill": {
     "duration": 0.059606,
     "end_time": "2023-05-01T14:09:07.907492",
     "exception": false,
     "start_time": "2023-05-01T14:09:07.847886",
     "status": "completed"
    },
    "tags": []
   },
   "outputs": [
    {
     "name": "stdout",
     "output_type": "stream",
     "text": [
      "Binary Columns: ['gender', 'SeniorCitizen', 'Partner', 'Dependents', 'PhoneService', 'PaperlessBilling', 'Churn', 'InternetServiceStatus']\n",
      "One Hot Encoding Columns: ['MultipleLines', 'InternetService', 'OnlineSecurity', 'OnlineBackup', 'DeviceProtection', 'TechSupport', 'StreamingTV', 'StreamingMovies', 'Contract', 'PaymentMethod']\n"
     ]
    }
   ],
   "source": [
    "# Make lists of the column types\n",
    "bin_cols = [] #Categorical\n",
    "ohe_cols = [] # Numerical\n",
    "# categorical columns are only saved if non-numerical & < 15 unique values\n",
    "# Dropped columns are non-numerical and have >= 15 unique values\n",
    "for i in df.columns:\n",
    "  if df[i].nunique() == 2 and df[i].dtype == \"object\":\n",
    "    bin_cols.append(i)\n",
    "  elif df[i].nunique() > 2 and df[i].dtype == \"object\":\n",
    "    ohe_cols.append(i)\n",
    "  # End if\n",
    "# End for\n",
    "# Print number of each type of column\n",
    "print(\"Binary Columns:\", bin_cols)\n",
    "print(\"One Hot Encoding Columns:\", ohe_cols)"
   ]
  },
  {
   "cell_type": "code",
   "execution_count": 35,
   "id": "bf510c0d",
   "metadata": {
    "execution": {
     "iopub.execute_input": "2023-05-01T14:09:07.960522Z",
     "iopub.status.busy": "2023-05-01T14:09:07.960112Z",
     "iopub.status.idle": "2023-05-01T14:09:07.982283Z",
     "shell.execute_reply": "2023-05-01T14:09:07.981168Z"
    },
    "papermill": {
     "duration": 0.052371,
     "end_time": "2023-05-01T14:09:07.985124",
     "exception": false,
     "start_time": "2023-05-01T14:09:07.932753",
     "status": "completed"
    },
    "tags": []
   },
   "outputs": [],
   "source": [
    "# Category Label Encoding\n",
    "for col in bin_cols:\n",
    "    if col == \"gender\":\n",
    "        dfT[col] = dfT[col].map({\"Female\": 1, \"Male\": 0})\n",
    "    else:\n",
    "        dfT[col] = dfT[col].map({\"Yes\": 1, \"No\": 0})"
   ]
  },
  {
   "cell_type": "markdown",
   "id": "1878275f",
   "metadata": {
    "papermill": {
     "duration": 0.02544,
     "end_time": "2023-05-01T14:09:08.036022",
     "exception": false,
     "start_time": "2023-05-01T14:09:08.010582",
     "status": "completed"
    },
    "tags": []
   },
   "source": [
    "### One Hot Encoding"
   ]
  },
  {
   "cell_type": "code",
   "execution_count": 36,
   "id": "4d547d28",
   "metadata": {
    "execution": {
     "iopub.execute_input": "2023-05-01T14:09:08.089289Z",
     "iopub.status.busy": "2023-05-01T14:09:08.088853Z",
     "iopub.status.idle": "2023-05-01T14:09:08.327650Z",
     "shell.execute_reply": "2023-05-01T14:09:08.326442Z"
    },
    "papermill": {
     "duration": 0.269446,
     "end_time": "2023-05-01T14:09:08.331168",
     "exception": false,
     "start_time": "2023-05-01T14:09:08.061722",
     "status": "completed"
    },
    "tags": []
   },
   "outputs": [
    {
     "data": {
      "text/html": [
       "<div>\n",
       "<style scoped>\n",
       "    .dataframe tbody tr th:only-of-type {\n",
       "        vertical-align: middle;\n",
       "    }\n",
       "\n",
       "    .dataframe tbody tr th {\n",
       "        vertical-align: top;\n",
       "    }\n",
       "\n",
       "    .dataframe thead th {\n",
       "        text-align: right;\n",
       "    }\n",
       "</style>\n",
       "<table border=\"1\" class=\"dataframe\">\n",
       "  <thead>\n",
       "    <tr style=\"text-align: right;\">\n",
       "      <th></th>\n",
       "      <th>gender</th>\n",
       "      <th>SeniorCitizen</th>\n",
       "      <th>Partner</th>\n",
       "      <th>Dependents</th>\n",
       "      <th>tenure</th>\n",
       "      <th>PhoneService</th>\n",
       "      <th>PaperlessBilling</th>\n",
       "      <th>MonthlyCharges</th>\n",
       "      <th>TotalCharges</th>\n",
       "      <th>Churn</th>\n",
       "      <th>InternetServiceStatus</th>\n",
       "      <th>NumServices</th>\n",
       "      <th>MultipleLines_No</th>\n",
       "      <th>MultipleLines_No phone service</th>\n",
       "      <th>MultipleLines_Yes</th>\n",
       "      <th>InternetService_DSL</th>\n",
       "      <th>InternetService_Fiber optic</th>\n",
       "      <th>InternetService_No</th>\n",
       "      <th>OnlineSecurity_No</th>\n",
       "      <th>OnlineSecurity_No internet service</th>\n",
       "      <th>OnlineSecurity_Yes</th>\n",
       "      <th>OnlineBackup_No</th>\n",
       "      <th>OnlineBackup_No internet service</th>\n",
       "      <th>OnlineBackup_Yes</th>\n",
       "      <th>DeviceProtection_No</th>\n",
       "      <th>DeviceProtection_No internet service</th>\n",
       "      <th>DeviceProtection_Yes</th>\n",
       "      <th>TechSupport_No</th>\n",
       "      <th>TechSupport_No internet service</th>\n",
       "      <th>TechSupport_Yes</th>\n",
       "      <th>StreamingTV_No</th>\n",
       "      <th>StreamingTV_No internet service</th>\n",
       "      <th>StreamingTV_Yes</th>\n",
       "      <th>StreamingMovies_No</th>\n",
       "      <th>StreamingMovies_No internet service</th>\n",
       "      <th>StreamingMovies_Yes</th>\n",
       "      <th>Contract_Month-to-month</th>\n",
       "      <th>Contract_One year</th>\n",
       "      <th>Contract_Two year</th>\n",
       "      <th>PaymentMethod_Bank transfer</th>\n",
       "      <th>PaymentMethod_Credit card</th>\n",
       "      <th>PaymentMethod_Electronic check</th>\n",
       "      <th>PaymentMethod_Mailed check</th>\n",
       "    </tr>\n",
       "  </thead>\n",
       "  <tbody>\n",
       "    <tr>\n",
       "      <th>0</th>\n",
       "      <td>1</td>\n",
       "      <td>0</td>\n",
       "      <td>1</td>\n",
       "      <td>0</td>\n",
       "      <td>1</td>\n",
       "      <td>0</td>\n",
       "      <td>1</td>\n",
       "      <td>29.85</td>\n",
       "      <td>29.85</td>\n",
       "      <td>0</td>\n",
       "      <td>1</td>\n",
       "      <td>2</td>\n",
       "      <td>0</td>\n",
       "      <td>1</td>\n",
       "      <td>0</td>\n",
       "      <td>1</td>\n",
       "      <td>0</td>\n",
       "      <td>0</td>\n",
       "      <td>1</td>\n",
       "      <td>0</td>\n",
       "      <td>0</td>\n",
       "      <td>0</td>\n",
       "      <td>0</td>\n",
       "      <td>1</td>\n",
       "      <td>1</td>\n",
       "      <td>0</td>\n",
       "      <td>0</td>\n",
       "      <td>1</td>\n",
       "      <td>0</td>\n",
       "      <td>0</td>\n",
       "      <td>1</td>\n",
       "      <td>0</td>\n",
       "      <td>0</td>\n",
       "      <td>1</td>\n",
       "      <td>0</td>\n",
       "      <td>0</td>\n",
       "      <td>1</td>\n",
       "      <td>0</td>\n",
       "      <td>0</td>\n",
       "      <td>0</td>\n",
       "      <td>0</td>\n",
       "      <td>1</td>\n",
       "      <td>0</td>\n",
       "    </tr>\n",
       "    <tr>\n",
       "      <th>1</th>\n",
       "      <td>0</td>\n",
       "      <td>0</td>\n",
       "      <td>0</td>\n",
       "      <td>0</td>\n",
       "      <td>34</td>\n",
       "      <td>1</td>\n",
       "      <td>0</td>\n",
       "      <td>56.95</td>\n",
       "      <td>1889.50</td>\n",
       "      <td>0</td>\n",
       "      <td>1</td>\n",
       "      <td>4</td>\n",
       "      <td>1</td>\n",
       "      <td>0</td>\n",
       "      <td>0</td>\n",
       "      <td>1</td>\n",
       "      <td>0</td>\n",
       "      <td>0</td>\n",
       "      <td>0</td>\n",
       "      <td>0</td>\n",
       "      <td>1</td>\n",
       "      <td>1</td>\n",
       "      <td>0</td>\n",
       "      <td>0</td>\n",
       "      <td>0</td>\n",
       "      <td>0</td>\n",
       "      <td>1</td>\n",
       "      <td>1</td>\n",
       "      <td>0</td>\n",
       "      <td>0</td>\n",
       "      <td>1</td>\n",
       "      <td>0</td>\n",
       "      <td>0</td>\n",
       "      <td>1</td>\n",
       "      <td>0</td>\n",
       "      <td>0</td>\n",
       "      <td>0</td>\n",
       "      <td>1</td>\n",
       "      <td>0</td>\n",
       "      <td>0</td>\n",
       "      <td>0</td>\n",
       "      <td>0</td>\n",
       "      <td>1</td>\n",
       "    </tr>\n",
       "    <tr>\n",
       "      <th>2</th>\n",
       "      <td>0</td>\n",
       "      <td>0</td>\n",
       "      <td>0</td>\n",
       "      <td>0</td>\n",
       "      <td>2</td>\n",
       "      <td>1</td>\n",
       "      <td>1</td>\n",
       "      <td>53.85</td>\n",
       "      <td>108.15</td>\n",
       "      <td>1</td>\n",
       "      <td>1</td>\n",
       "      <td>4</td>\n",
       "      <td>1</td>\n",
       "      <td>0</td>\n",
       "      <td>0</td>\n",
       "      <td>1</td>\n",
       "      <td>0</td>\n",
       "      <td>0</td>\n",
       "      <td>0</td>\n",
       "      <td>0</td>\n",
       "      <td>1</td>\n",
       "      <td>0</td>\n",
       "      <td>0</td>\n",
       "      <td>1</td>\n",
       "      <td>1</td>\n",
       "      <td>0</td>\n",
       "      <td>0</td>\n",
       "      <td>1</td>\n",
       "      <td>0</td>\n",
       "      <td>0</td>\n",
       "      <td>1</td>\n",
       "      <td>0</td>\n",
       "      <td>0</td>\n",
       "      <td>1</td>\n",
       "      <td>0</td>\n",
       "      <td>0</td>\n",
       "      <td>1</td>\n",
       "      <td>0</td>\n",
       "      <td>0</td>\n",
       "      <td>0</td>\n",
       "      <td>0</td>\n",
       "      <td>0</td>\n",
       "      <td>1</td>\n",
       "    </tr>\n",
       "    <tr>\n",
       "      <th>3</th>\n",
       "      <td>0</td>\n",
       "      <td>0</td>\n",
       "      <td>0</td>\n",
       "      <td>0</td>\n",
       "      <td>45</td>\n",
       "      <td>0</td>\n",
       "      <td>0</td>\n",
       "      <td>42.30</td>\n",
       "      <td>1840.75</td>\n",
       "      <td>0</td>\n",
       "      <td>1</td>\n",
       "      <td>4</td>\n",
       "      <td>0</td>\n",
       "      <td>1</td>\n",
       "      <td>0</td>\n",
       "      <td>1</td>\n",
       "      <td>0</td>\n",
       "      <td>0</td>\n",
       "      <td>0</td>\n",
       "      <td>0</td>\n",
       "      <td>1</td>\n",
       "      <td>1</td>\n",
       "      <td>0</td>\n",
       "      <td>0</td>\n",
       "      <td>0</td>\n",
       "      <td>0</td>\n",
       "      <td>1</td>\n",
       "      <td>0</td>\n",
       "      <td>0</td>\n",
       "      <td>1</td>\n",
       "      <td>1</td>\n",
       "      <td>0</td>\n",
       "      <td>0</td>\n",
       "      <td>1</td>\n",
       "      <td>0</td>\n",
       "      <td>0</td>\n",
       "      <td>0</td>\n",
       "      <td>1</td>\n",
       "      <td>0</td>\n",
       "      <td>1</td>\n",
       "      <td>0</td>\n",
       "      <td>0</td>\n",
       "      <td>0</td>\n",
       "    </tr>\n",
       "    <tr>\n",
       "      <th>4</th>\n",
       "      <td>1</td>\n",
       "      <td>0</td>\n",
       "      <td>0</td>\n",
       "      <td>0</td>\n",
       "      <td>2</td>\n",
       "      <td>1</td>\n",
       "      <td>1</td>\n",
       "      <td>70.70</td>\n",
       "      <td>151.65</td>\n",
       "      <td>1</td>\n",
       "      <td>1</td>\n",
       "      <td>2</td>\n",
       "      <td>1</td>\n",
       "      <td>0</td>\n",
       "      <td>0</td>\n",
       "      <td>0</td>\n",
       "      <td>1</td>\n",
       "      <td>0</td>\n",
       "      <td>1</td>\n",
       "      <td>0</td>\n",
       "      <td>0</td>\n",
       "      <td>1</td>\n",
       "      <td>0</td>\n",
       "      <td>0</td>\n",
       "      <td>1</td>\n",
       "      <td>0</td>\n",
       "      <td>0</td>\n",
       "      <td>1</td>\n",
       "      <td>0</td>\n",
       "      <td>0</td>\n",
       "      <td>1</td>\n",
       "      <td>0</td>\n",
       "      <td>0</td>\n",
       "      <td>1</td>\n",
       "      <td>0</td>\n",
       "      <td>0</td>\n",
       "      <td>1</td>\n",
       "      <td>0</td>\n",
       "      <td>0</td>\n",
       "      <td>0</td>\n",
       "      <td>0</td>\n",
       "      <td>1</td>\n",
       "      <td>0</td>\n",
       "    </tr>\n",
       "  </tbody>\n",
       "</table>\n",
       "</div>"
      ],
      "text/plain": [
       "   gender  SeniorCitizen  Partner  Dependents  tenure  PhoneService  PaperlessBilling  MonthlyCharges  TotalCharges  Churn  InternetServiceStatus  NumServices  MultipleLines_No  MultipleLines_No phone service  MultipleLines_Yes  InternetService_DSL  InternetService_Fiber optic  InternetService_No  OnlineSecurity_No  OnlineSecurity_No internet service  OnlineSecurity_Yes  OnlineBackup_No  OnlineBackup_No internet service  OnlineBackup_Yes  DeviceProtection_No  \\\n",
       "0       1              0        1           0       1             0                 1           29.85         29.85      0                      1            2                 0                               1                  0                    1                            0                   0                  1                                   0                   0                0                                 0                 1                    1   \n",
       "1       0              0        0           0      34             1                 0           56.95       1889.50      0                      1            4                 1                               0                  0                    1                            0                   0                  0                                   0                   1                1                                 0                 0                    0   \n",
       "2       0              0        0           0       2             1                 1           53.85        108.15      1                      1            4                 1                               0                  0                    1                            0                   0                  0                                   0                   1                0                                 0                 1                    1   \n",
       "3       0              0        0           0      45             0                 0           42.30       1840.75      0                      1            4                 0                               1                  0                    1                            0                   0                  0                                   0                   1                1                                 0                 0                    0   \n",
       "4       1              0        0           0       2             1                 1           70.70        151.65      1                      1            2                 1                               0                  0                    0                            1                   0                  1                                   0                   0                1                                 0                 0                    1   \n",
       "\n",
       "   DeviceProtection_No internet service  DeviceProtection_Yes  TechSupport_No  TechSupport_No internet service  TechSupport_Yes  StreamingTV_No  StreamingTV_No internet service  StreamingTV_Yes  StreamingMovies_No  StreamingMovies_No internet service  StreamingMovies_Yes  Contract_Month-to-month  Contract_One year  Contract_Two year  PaymentMethod_Bank transfer  PaymentMethod_Credit card  PaymentMethod_Electronic check  PaymentMethod_Mailed check  \n",
       "0                                     0                     0               1                                0                0               1                                0                0                   1                                    0                    0                        1                  0                  0                            0                          0                               1                           0  \n",
       "1                                     0                     1               1                                0                0               1                                0                0                   1                                    0                    0                        0                  1                  0                            0                          0                               0                           1  \n",
       "2                                     0                     0               1                                0                0               1                                0                0                   1                                    0                    0                        1                  0                  0                            0                          0                               0                           1  \n",
       "3                                     0                     1               0                                0                1               1                                0                0                   1                                    0                    0                        0                  1                  0                            1                          0                               0                           0  \n",
       "4                                     0                     0               1                                0                0               1                                0                0                   1                                    0                    0                        1                  0                  0                            0                          0                               1                           0  "
      ]
     },
     "execution_count": 36,
     "metadata": {},
     "output_type": "execute_result"
    }
   ],
   "source": [
    "dfT = pd.get_dummies(dfT, columns = ohe_cols)\n",
    "dfT.head()"
   ]
  },
  {
   "cell_type": "markdown",
   "id": "c53c8609",
   "metadata": {
    "papermill": {
     "duration": 0.025234,
     "end_time": "2023-05-01T14:09:08.382262",
     "exception": false,
     "start_time": "2023-05-01T14:09:08.357028",
     "status": "completed"
    },
    "tags": []
   },
   "source": [
    "## Split Train/Test Data\n",
    "Train and Test Data should be split up before performing data normalization because the test set is unseen data and is not supposed to be available."
   ]
  },
  {
   "cell_type": "code",
   "execution_count": 37,
   "id": "f1e0bd58",
   "metadata": {
    "execution": {
     "iopub.execute_input": "2023-05-01T14:09:08.435256Z",
     "iopub.status.busy": "2023-05-01T14:09:08.434802Z",
     "iopub.status.idle": "2023-05-01T14:09:08.447909Z",
     "shell.execute_reply": "2023-05-01T14:09:08.446952Z"
    },
    "papermill": {
     "duration": 0.043035,
     "end_time": "2023-05-01T14:09:08.450733",
     "exception": false,
     "start_time": "2023-05-01T14:09:08.407698",
     "status": "completed"
    },
    "tags": []
   },
   "outputs": [],
   "source": [
    "# Split the data into test and training sets with a 80/20 split\n",
    "Y = dfT.Churn\n",
    "X = dfT.drop(columns='Churn')\n",
    "X_train, X_test, Y_train, Y_test = train_test_split(X, Y, test_size=0.2, random_state=21)"
   ]
  },
  {
   "cell_type": "markdown",
   "id": "c54115df",
   "metadata": {
    "papermill": {
     "duration": 0.025393,
     "end_time": "2023-05-01T14:09:08.501546",
     "exception": false,
     "start_time": "2023-05-01T14:09:08.476153",
     "status": "completed"
    },
    "tags": []
   },
   "source": [
    "## Normalization "
   ]
  },
  {
   "cell_type": "code",
   "execution_count": 38,
   "id": "4680209d",
   "metadata": {
    "execution": {
     "iopub.execute_input": "2023-05-01T14:09:08.554664Z",
     "iopub.status.busy": "2023-05-01T14:09:08.554256Z",
     "iopub.status.idle": "2023-05-01T14:09:08.570217Z",
     "shell.execute_reply": "2023-05-01T14:09:08.568849Z"
    },
    "papermill": {
     "duration": 0.045678,
     "end_time": "2023-05-01T14:09:08.572855",
     "exception": false,
     "start_time": "2023-05-01T14:09:08.527177",
     "status": "completed"
    },
    "tags": []
   },
   "outputs": [],
   "source": [
    "mms = MinMaxScaler()\n",
    "norm_cols = ['tenure','MonthlyCharges','TotalCharges','NumServices']\n",
    "X_train[norm_cols] = mms.fit_transform(X_train[norm_cols])\n",
    "X_test[norm_cols] = mms.transform(X_test[norm_cols])"
   ]
  },
  {
   "cell_type": "markdown",
   "id": "4b4d235a",
   "metadata": {
    "papermill": {
     "duration": 0.025277,
     "end_time": "2023-05-01T14:09:08.623519",
     "exception": false,
     "start_time": "2023-05-01T14:09:08.598242",
     "status": "completed"
    },
    "tags": []
   },
   "source": [
    "# Model Selection"
   ]
  },
  {
   "cell_type": "code",
   "execution_count": 39,
   "id": "341fd3d8",
   "metadata": {
    "execution": {
     "iopub.execute_input": "2023-05-01T14:09:08.677167Z",
     "iopub.status.busy": "2023-05-01T14:09:08.676604Z",
     "iopub.status.idle": "2023-05-01T14:09:08.681918Z",
     "shell.execute_reply": "2023-05-01T14:09:08.680991Z"
    },
    "papermill": {
     "duration": 0.035206,
     "end_time": "2023-05-01T14:09:08.684249",
     "exception": false,
     "start_time": "2023-05-01T14:09:08.649043",
     "status": "completed"
    },
    "tags": []
   },
   "outputs": [],
   "source": [
    "models = []"
   ]
  },
  {
   "cell_type": "markdown",
   "id": "380f36fe",
   "metadata": {
    "papermill": {
     "duration": 0.025599,
     "end_time": "2023-05-01T14:09:08.739750",
     "exception": false,
     "start_time": "2023-05-01T14:09:08.714151",
     "status": "completed"
    },
    "tags": []
   },
   "source": [
    "# Hyperparameter Tuning"
   ]
  },
  {
   "cell_type": "markdown",
   "id": "588a40a2",
   "metadata": {
    "papermill": {
     "duration": 0.025573,
     "end_time": "2023-05-01T14:09:08.791651",
     "exception": false,
     "start_time": "2023-05-01T14:09:08.766078",
     "status": "completed"
    },
    "tags": []
   },
   "source": [
    "# Model Performance"
   ]
  }
 ],
 "metadata": {
  "kernelspec": {
   "display_name": "Python 3",
   "language": "python",
   "name": "python3"
  },
  "language_info": {
   "codemirror_mode": {
    "name": "ipython",
    "version": 3
   },
   "file_extension": ".py",
   "mimetype": "text/x-python",
   "name": "python",
   "nbconvert_exporter": "python",
   "pygments_lexer": "ipython3",
   "version": "3.7.12"
  },
  "papermill": {
   "default_parameters": {},
   "duration": 28.384112,
   "end_time": "2023-05-01T14:09:09.639387",
   "environment_variables": {},
   "exception": null,
   "input_path": "__notebook__.ipynb",
   "output_path": "__notebook__.ipynb",
   "parameters": {},
   "start_time": "2023-05-01T14:08:41.255275",
   "version": "2.4.0"
  }
 },
 "nbformat": 4,
 "nbformat_minor": 5
}
